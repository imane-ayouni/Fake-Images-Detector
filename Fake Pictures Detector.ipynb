{
 "cells": [
  {
   "cell_type": "markdown",
   "id": "c19246cf",
   "metadata": {},
   "source": [
    "# Fake pictures detector "
   ]
  },
  {
   "cell_type": "markdown",
   "id": "101c6f4e",
   "metadata": {},
   "source": [
    "## Topic\n",
    "\n",
    "In this project, I will be going through many real people pictures and fake photoshop made pictures, using dimensionality reduction technique, more specifically PCA, reduce the dimendion of the pictures and then apply classification algorithms on them. The row pictures are downloaded and transformed into arrays, only one color channel is kept with the values at each pixel stored into an array, PCA is then apply twice, first time to reduce the photo matrices into their 3 principal components and second to reduce those 3 components in to one principal components which contains 50% of the information in the picture.\n",
    "Different classification algorithms are then applied on the decomposed matrices to try and predict whether a certain picture is real or fake."
   ]
  },
  {
   "cell_type": "markdown",
   "id": "8ceecf01",
   "metadata": {},
   "source": [
    "## Objectives\n",
    "\n",
    "- Reduce the dimension of the photos\n",
    "- Apply classification algorithms to determine whether a picture is real or fake"
   ]
  },
  {
   "cell_type": "markdown",
   "id": "3e18a40d",
   "metadata": {},
   "source": [
    "## Summary\n",
    "\n",
    "- Importing Libraries\n",
    "- Quick look at the dataset\n",
    "- Data pre-processing\n",
    "- Logistic Regression\n",
    "- Naive Bayes Classifier\n",
    "- Support Vector Machines\n",
    "- XGBoost Classifier\n",
    "- K Nearest Neighbours\n",
    "- Decision Tree Classifier"
   ]
  },
  {
   "cell_type": "markdown",
   "id": "0ab9248c",
   "metadata": {},
   "source": [
    "## Importing libraries"
   ]
  },
  {
   "cell_type": "code",
   "execution_count": 1,
   "id": "3569cea2",
   "metadata": {},
   "outputs": [
    {
     "name": "stderr",
     "output_type": "stream",
     "text": [
      "c:\\users\\imane\\appdata\\local\\programs\\python\\python39\\lib\\site-packages\\xgboost\\compat.py:36: FutureWarning: pandas.Int64Index is deprecated and will be removed from pandas in a future version. Use pandas.Index with the appropriate dtype instead.\n",
      "  from pandas import MultiIndex, Int64Index\n"
     ]
    }
   ],
   "source": [
    "import numpy as np\n",
    "from matplotlib.pyplot import imread\n",
    "import matplotlib.pyplot as plt\n",
    "import os\n",
    "import matplotlib.image as mplib \n",
    "import pandas as pd\n",
    "from sklearn.decomposition import PCA\n",
    "from PIL import Image\n",
    "import cv2\n",
    "from sklearn.model_selection import train_test_split, GridSearchCV, RandomizedSearchCV\n",
    "from sklearn.metrics import  classification_report, confusion_matrix,f1_score\n",
    "from sklearn.model_selection import GridSearchCV\n",
    "from sklearn.linear_model import LogisticRegression\n",
    "from sklearn.ensemble import RandomForestClassifier\n",
    "import xgboost \n",
    "from xgboost import XGBClassifier\n",
    "from sklearn.svm import SVC\n",
    "from sklearn.naive_bayes import GaussianNB\n",
    "from sklearn.neighbors import KNeighborsClassifier\n",
    "from sklearn.tree import DecisionTreeClassifier"
   ]
  },
  {
   "cell_type": "markdown",
   "id": "8bff2dc0",
   "metadata": {},
   "source": [
    "## The Dataset\n",
    "The dataset is two folders containing real images of different people and photoshop made images.  "
   ]
  },
  {
   "cell_type": "code",
   "execution_count": 2,
   "id": "98c15b7d",
   "metadata": {},
   "outputs": [],
   "source": [
    "# get two lists containing the names of the files\n",
    "list_real = os.listdir(r\"C:\\Users\\imane\\OneDrive\\Desktop\\eigenfaces\\training_real\")\n",
    "list_fake = os.listdir(r\"C:\\Users\\imane\\OneDrive\\Desktop\\eigenfaces\\training_fake\")"
   ]
  },
  {
   "cell_type": "code",
   "execution_count": 3,
   "id": "9f58d199",
   "metadata": {},
   "outputs": [
    {
     "name": "stdout",
     "output_type": "stream",
     "text": [
      "1081\n"
     ]
    }
   ],
   "source": [
    "print(len(list_real))"
   ]
  },
  {
   "cell_type": "code",
   "execution_count": 4,
   "id": "bae5a790",
   "metadata": {},
   "outputs": [
    {
     "name": "stdout",
     "output_type": "stream",
     "text": [
      "960\n"
     ]
    }
   ],
   "source": [
    "print(len(list_fake))"
   ]
  },
  {
   "cell_type": "markdown",
   "id": "afe1677d",
   "metadata": {},
   "source": [
    "I have 1081 images of real people and 960 images of photoshoped fake images."
   ]
  },
  {
   "cell_type": "code",
   "execution_count": 5,
   "id": "cd36c433",
   "metadata": {},
   "outputs": [],
   "source": [
    "# get paths to the image folders\n",
    "path_real = r\"C:\\Users\\imane\\OneDrive\\Desktop\\eigenfaces\\training_real\"\n",
    "path_fake = r\"C:\\Users\\imane\\OneDrive\\Desktop\\eigenfaces\\training_fake\""
   ]
  },
  {
   "cell_type": "code",
   "execution_count": 6,
   "id": "b4395b34",
   "metadata": {},
   "outputs": [],
   "source": [
    "# get a list of the paths to real images\n",
    "pics_real = [os.path.join(path_real, i) for i in list_real]"
   ]
  },
  {
   "cell_type": "code",
   "execution_count": 7,
   "id": "aaa3b06d",
   "metadata": {},
   "outputs": [],
   "source": [
    "# get a list of the paths to fake images\n",
    "pics_fake = [os.path.join(path_fake, i) for i in list_fake]"
   ]
  },
  {
   "cell_type": "code",
   "execution_count": 8,
   "id": "59a47c90",
   "metadata": {},
   "outputs": [],
   "source": [
    "# get a list of the paths to the real photos\n",
    "paths_real = [os.path.join(path_real,i) for i in list_real]"
   ]
  },
  {
   "cell_type": "code",
   "execution_count": 9,
   "id": "f6b526a2",
   "metadata": {},
   "outputs": [],
   "source": [
    "# get a list of the paths to the fake photos\n",
    "paths_fake = [os.path.join(path_fake,i) for i in list_fake]"
   ]
  },
  {
   "cell_type": "code",
   "execution_count": 10,
   "id": "a5430505",
   "metadata": {},
   "outputs": [],
   "source": [
    "arrays_real = []\n",
    "for p in paths_real:\n",
    "    img = Image.open(p)\n",
    "    array = np.asarray(img)\n",
    "    arrays_real.append(array)"
   ]
  },
  {
   "cell_type": "markdown",
   "id": "71ebafba",
   "metadata": {},
   "source": [
    "In this part, I opened every pictures in the real picture folder, transformed it into an array and stored all the arrays in a list."
   ]
  },
  {
   "cell_type": "code",
   "execution_count": 12,
   "id": "7abf6832",
   "metadata": {},
   "outputs": [],
   "source": [
    "arrays_fake = []\n",
    "for p in paths_fake:\n",
    "    img = Image.open(p)\n",
    "    array = np.asarray(img)\n",
    "    arrays_fake.append(array)"
   ]
  },
  {
   "cell_type": "markdown",
   "id": "23b8c6b2",
   "metadata": {},
   "source": [
    "I did the same for fake images."
   ]
  },
  {
   "cell_type": "code",
   "execution_count": 14,
   "id": "adac69b9",
   "metadata": {},
   "outputs": [],
   "source": [
    "img = arrays_real[1]"
   ]
  },
  {
   "cell_type": "code",
   "execution_count": 15,
   "id": "4b98054c",
   "metadata": {},
   "outputs": [
    {
     "data": {
      "text/plain": [
       "(600, 600, 3)"
      ]
     },
     "execution_count": 15,
     "metadata": {},
     "output_type": "execute_result"
    }
   ],
   "source": [
    "# get the shape of images\n",
    "img.shape"
   ]
  },
  {
   "cell_type": "markdown",
   "id": "42253f31",
   "metadata": {},
   "source": [
    "The images are in shape 600*600*3 , meaning length and width of 600 times the three color channels."
   ]
  },
  {
   "cell_type": "code",
   "execution_count": 16,
   "id": "7e92d603",
   "metadata": {},
   "outputs": [],
   "source": [
    "# split the picture into its 3 channels\n",
    "blue,green,red = cv2.split(img)"
   ]
  },
  {
   "cell_type": "markdown",
   "id": "6883bf20",
   "metadata": {},
   "source": [
    "Here I plotted the picture in its 3 channels red blue and green."
   ]
  },
  {
   "cell_type": "markdown",
   "id": "85937fbf",
   "metadata": {},
   "source": [
    "## Data Pre-processing"
   ]
  },
  {
   "cell_type": "code",
   "execution_count": 17,
   "id": "9092b9bd",
   "metadata": {},
   "outputs": [],
   "source": [
    "b_real = []\n",
    "g_real = []\n",
    "r_real = []\n",
    "for a in arrays_real:\n",
    "    blue, green, red = cv2.split(a)\n",
    "    b_real.append(blue)\n",
    "    g_real.append(green)\n",
    "    r_real.append(red)\n"
   ]
  },
  {
   "cell_type": "code",
   "execution_count": 18,
   "id": "8ecbd3b9",
   "metadata": {},
   "outputs": [],
   "source": [
    "b_fake = []\n",
    "g_fake = []\n",
    "r_fake = []\n",
    "for a in arrays_fake:\n",
    "    blue, green, red = cv2.split(a)\n",
    "    b_fake.append(blue)\n",
    "    g_fake.append(green)\n",
    "    r_fake.append(red)"
   ]
  },
  {
   "cell_type": "markdown",
   "id": "69d71ed9",
   "metadata": {},
   "source": [
    "In the above, I iterated through every picture array, split it into the three channels and stored each channels information into a list."
   ]
  },
  {
   "cell_type": "markdown",
   "id": "23b93c00",
   "metadata": {},
   "source": [
    "I then printed channel red for the real pictures and channel green for the fake pictures, the lists contains pixel data in the subsequant channel."
   ]
  },
  {
   "cell_type": "code",
   "execution_count": 21,
   "id": "443d763b",
   "metadata": {},
   "outputs": [
    {
     "data": {
      "text/plain": [
       "array([[0.36470588, 0.34901961, 0.32156863, ..., 0.54509804, 0.53333333,\n",
       "        0.54509804],\n",
       "       [0.30980392, 0.30588235, 0.30980392, ..., 0.54117647, 0.5254902 ,\n",
       "        0.5372549 ],\n",
       "       [0.24313725, 0.2627451 , 0.29019608, ..., 0.51764706, 0.49803922,\n",
       "        0.51372549],\n",
       "       ...,\n",
       "       [0.41960784, 0.43529412, 0.45882353, ..., 0.1254902 , 0.12156863,\n",
       "        0.1254902 ],\n",
       "       [0.41176471, 0.42745098, 0.44705882, ..., 0.12156863, 0.12156863,\n",
       "        0.12941176],\n",
       "       [0.42745098, 0.44705882, 0.46666667, ..., 0.11764706, 0.12941176,\n",
       "        0.12941176]])"
      ]
     },
     "execution_count": 21,
     "metadata": {},
     "output_type": "execute_result"
    }
   ],
   "source": [
    "r_real[0] = r_real[0]/255\n",
    "r_real[0]"
   ]
  },
  {
   "cell_type": "markdown",
   "id": "905a040e",
   "metadata": {},
   "source": [
    "While experimenting with one picture, I first regularised the pixel data by deviding the array by 255."
   ]
  },
  {
   "cell_type": "code",
   "execution_count": 22,
   "id": "d09a2e85",
   "metadata": {},
   "outputs": [
    {
     "data": {
      "text/plain": [
       "array([[ 3.16414896,  3.48667185,  2.68854441],\n",
       "       [ 3.18294632,  3.47764011,  2.65265939],\n",
       "       [ 3.18803467,  3.48657433,  2.60465319],\n",
       "       ...,\n",
       "       [-1.53686586,  2.2624265 , -1.47116219],\n",
       "       [-1.45086557,  2.31215672, -1.46733577],\n",
       "       [-1.37750035,  2.3594457 , -1.45624457]])"
      ]
     },
     "execution_count": 22,
     "metadata": {},
     "output_type": "execute_result"
    }
   ],
   "source": [
    "pca_3 = PCA(n_components=3)\n",
    "pca_3.fit_transform(r_real[0])"
   ]
  },
  {
   "cell_type": "markdown",
   "id": "69121cb8",
   "metadata": {},
   "source": [
    "I then applied PCA with 3 components on the regularised array."
   ]
  },
  {
   "cell_type": "code",
   "execution_count": 23,
   "id": "693e67c6",
   "metadata": {},
   "outputs": [
    {
     "name": "stdout",
     "output_type": "stream",
     "text": [
      "[0.24249098 0.19232581 0.14318063]\n"
     ]
    }
   ],
   "source": [
    "#  ration of variance -  identify how significant is each principal component \n",
    "print(pca_3.explained_variance_ratio_)"
   ]
  },
  {
   "cell_type": "markdown",
   "id": "7a43c939",
   "metadata": {},
   "source": [
    "Here I printed the eigenvalues of the first 3 components, we see that the first principal components only holds 0,24 of the information in the data."
   ]
  },
  {
   "cell_type": "code",
   "execution_count": 24,
   "id": "3e7d6929",
   "metadata": {},
   "outputs": [
    {
     "name": "stdout",
     "output_type": "stream",
     "text": [
      "[39.44850311 35.13189002 30.31271671]\n"
     ]
    }
   ],
   "source": [
    "print(pca_3.singular_values_)"
   ]
  },
  {
   "cell_type": "code",
   "execution_count": 25,
   "id": "bd36a5e5",
   "metadata": {},
   "outputs": [
    {
     "data": {
      "text/plain": [
       "array([[ 3.16414896,  3.48667185,  2.68854441],\n",
       "       [ 3.18294632,  3.47764011,  2.65265939],\n",
       "       [ 3.18803467,  3.48657433,  2.60465319],\n",
       "       ...,\n",
       "       [-1.53686586,  2.2624265 , -1.47116219],\n",
       "       [-1.45086557,  2.31215672, -1.46733577],\n",
       "       [-1.37750035,  2.3594457 , -1.45624457]])"
      ]
     },
     "execution_count": 25,
     "metadata": {},
     "output_type": "execute_result"
    }
   ],
   "source": [
    "t = pca_3.transform(r_real[0])\n",
    "t"
   ]
  },
  {
   "cell_type": "code",
   "execution_count": 26,
   "id": "2a2def0f",
   "metadata": {},
   "outputs": [
    {
     "data": {
      "text/plain": [
       "array([[-0.0047902 , -0.0059443 , -0.00633799, ...,  0.02503156,\n",
       "         0.02481148,  0.02476085],\n",
       "       [ 0.06456074,  0.06529843,  0.06761094, ...,  0.05572289,\n",
       "         0.05612572,  0.05663146],\n",
       "       [-0.05000346, -0.04721452, -0.04359481, ...,  0.04547275,\n",
       "         0.04415632,  0.0429455 ]])"
      ]
     },
     "execution_count": 26,
     "metadata": {},
     "output_type": "execute_result"
    }
   ],
   "source": [
    "# Get the principal components (eigenvectors)\n",
    "pca_3.components_"
   ]
  },
  {
   "cell_type": "code",
   "execution_count": 27,
   "id": "1e762633",
   "metadata": {},
   "outputs": [
    {
     "data": {
      "text/plain": [
       "array([0.41953645])"
      ]
     },
     "execution_count": 27,
     "metadata": {},
     "output_type": "execute_result"
    }
   ],
   "source": [
    "pca_1 = PCA(n_components = 1)\n",
    "pca_1.fit_transform(t)\n",
    "pca_1.explained_variance_ratio_"
   ]
  },
  {
   "cell_type": "markdown",
   "id": "14dd26d1",
   "metadata": {},
   "source": [
    "Then I applied a second PCA on my 3 principal components to try and reduce the picture into only one array. We see that the only principal components holds 50% of the information in the data, which is not bad considering how much dementiality reduction has been done."
   ]
  },
  {
   "cell_type": "code",
   "execution_count": 28,
   "id": "4fc0e8db",
   "metadata": {},
   "outputs": [],
   "source": [
    "pca_3 = PCA(n_components = 3)\n",
    "pca_1 = PCA(n_components = 1)"
   ]
  },
  {
   "cell_type": "markdown",
   "id": "c52123a9",
   "metadata": {},
   "source": [
    "Here I created two PCAs one with 3 princiapl components and the second with 1."
   ]
  },
  {
   "cell_type": "code",
   "execution_count": 29,
   "id": "0a67b923",
   "metadata": {},
   "outputs": [],
   "source": [
    "features_real = []\n",
    "for a in r_real:\n",
    "    a = a/255\n",
    "    t = pca_3.fit_transform(a)    \n",
    "    tt = pca_1.fit_transform(t)    \n",
    "    features_real.append(tt)"
   ]
  },
  {
   "cell_type": "markdown",
   "id": "ba33f528",
   "metadata": {},
   "source": [
    "Choosing only the red channel, I regularised every picture array, transformed it with PCA and kept its three components, reapplied PCA and got only the one principal component."
   ]
  },
  {
   "cell_type": "code",
   "execution_count": 31,
   "id": "b4dc5a2e",
   "metadata": {},
   "outputs": [],
   "source": [
    "# Transform the features list into an array\n",
    "features_real = np.array(features_real)"
   ]
  },
  {
   "cell_type": "code",
   "execution_count": 32,
   "id": "225aa9b1",
   "metadata": {},
   "outputs": [
    {
     "data": {
      "text/plain": [
       "(1081, 600, 1)"
      ]
     },
     "execution_count": 32,
     "metadata": {},
     "output_type": "execute_result"
    }
   ],
   "source": [
    "# get the shape of the array\n",
    "features_real.shape"
   ]
  },
  {
   "cell_type": "code",
   "execution_count": 33,
   "id": "2919ed03",
   "metadata": {},
   "outputs": [],
   "source": [
    "# keep only two dimensions in the array\n",
    "features_real = np.squeeze(features_real)"
   ]
  },
  {
   "cell_type": "code",
   "execution_count": 34,
   "id": "901cb6fb",
   "metadata": {},
   "outputs": [
    {
     "data": {
      "text/plain": [
       "array([[ 1.24084273e-02,  1.24821424e-02,  1.25020968e-02, ...,\n",
       "        -6.02692496e-03, -5.68966891e-03, -5.40196216e-03],\n",
       "       [ 7.30636659e+00,  7.21360264e+00,  7.02718064e+00, ...,\n",
       "         4.41739845e+00,  4.44166430e+00,  4.50502853e+00],\n",
       "       [ 5.31470470e+00,  5.30138942e+00,  5.31749393e+00, ...,\n",
       "         3.40083155e+00,  3.38134085e+00,  3.37459692e+00],\n",
       "       ...,\n",
       "       [-4.50300413e+00, -4.50300413e+00, -4.50300413e+00, ...,\n",
       "        -3.89060792e+00, -4.01996381e+00, -4.02535108e+00],\n",
       "       [ 4.48359948e+00,  4.46362139e+00,  4.46088475e+00, ...,\n",
       "        -2.15519021e+00, -2.14926006e+00, -2.14464395e+00],\n",
       "       [-4.26687830e+00, -4.26609212e+00, -4.25940654e+00, ...,\n",
       "        -1.46389829e+00, -1.35613416e+00, -1.35867978e+00]])"
      ]
     },
     "execution_count": 34,
     "metadata": {},
     "output_type": "execute_result"
    }
   ],
   "source": [
    "features_real"
   ]
  },
  {
   "cell_type": "code",
   "execution_count": 35,
   "id": "139dacca",
   "metadata": {},
   "outputs": [],
   "source": [
    "# Transform the array into a pandas dataframe\n",
    "df_real = pd.DataFrame(features_real)"
   ]
  },
  {
   "cell_type": "code",
   "execution_count": 36,
   "id": "7f4546ae",
   "metadata": {},
   "outputs": [],
   "source": [
    "# Adding the target column, 1 for real\n",
    "df_real[\"target\"] = 1"
   ]
  },
  {
   "cell_type": "markdown",
   "id": "c1487bff",
   "metadata": {},
   "source": [
    "In the above, I transformed every picture into one array line and stored it in a pandas dataframe, then added the target feature which is 1 for real pictures and 0 for fake pictures. Below I did the same for fake pictures."
   ]
  },
  {
   "cell_type": "code",
   "execution_count": 38,
   "id": "16353aa0",
   "metadata": {},
   "outputs": [],
   "source": [
    "features_fake = []\n",
    "for a in r_fake:\n",
    "    a = a/255\n",
    "    t = pca_3.fit_transform(a)    \n",
    "    tt = pca_1.fit_transform(t)    \n",
    "    features_fake.append(tt)"
   ]
  },
  {
   "cell_type": "code",
   "execution_count": 114,
   "id": "81436349",
   "metadata": {},
   "outputs": [],
   "source": [
    "features_fake = np.array(features_fake)\n",
    "features_fake = np.squeeze(features_fake)\n",
    "df_fake = pd.DataFrame(features_fake)\n",
    "df_fake[\"target\"] = 0"
   ]
  },
  {
   "cell_type": "code",
   "execution_count": 40,
   "id": "2f80e2f1",
   "metadata": {},
   "outputs": [
    {
     "name": "stderr",
     "output_type": "stream",
     "text": [
      "C:\\Users\\imane\\AppData\\Local\\Temp/ipykernel_1504/1117223117.py:1: FutureWarning: The frame.append method is deprecated and will be removed from pandas in a future version. Use pandas.concat instead.\n",
      "  df = df_real.append(df_fake)\n"
     ]
    }
   ],
   "source": [
    "df = df_real.append(df_fake)"
   ]
  },
  {
   "cell_type": "markdown",
   "id": "0d30d61a",
   "metadata": {},
   "source": [
    "I added the real pictures dataframe to the fake pictures dataframe."
   ]
  },
  {
   "cell_type": "code",
   "execution_count": 41,
   "id": "5fea0acc",
   "metadata": {},
   "outputs": [],
   "source": [
    "df = df.sample(frac = 1)"
   ]
  },
  {
   "cell_type": "markdown",
   "id": "bdb53f3d",
   "metadata": {},
   "source": [
    "Then shuffled the rows with target 1 with eows with target 0."
   ]
  },
  {
   "cell_type": "code",
   "execution_count": 42,
   "id": "7f4675bd",
   "metadata": {},
   "outputs": [
    {
     "data": {
      "text/html": [
       "<div>\n",
       "<style scoped>\n",
       "    .dataframe tbody tr th:only-of-type {\n",
       "        vertical-align: middle;\n",
       "    }\n",
       "\n",
       "    .dataframe tbody tr th {\n",
       "        vertical-align: top;\n",
       "    }\n",
       "\n",
       "    .dataframe thead th {\n",
       "        text-align: right;\n",
       "    }\n",
       "</style>\n",
       "<table border=\"1\" class=\"dataframe\">\n",
       "  <thead>\n",
       "    <tr style=\"text-align: right;\">\n",
       "      <th></th>\n",
       "      <th>0</th>\n",
       "      <th>1</th>\n",
       "      <th>2</th>\n",
       "      <th>3</th>\n",
       "      <th>4</th>\n",
       "      <th>5</th>\n",
       "      <th>6</th>\n",
       "      <th>7</th>\n",
       "      <th>8</th>\n",
       "      <th>9</th>\n",
       "      <th>...</th>\n",
       "      <th>591</th>\n",
       "      <th>592</th>\n",
       "      <th>593</th>\n",
       "      <th>594</th>\n",
       "      <th>595</th>\n",
       "      <th>596</th>\n",
       "      <th>597</th>\n",
       "      <th>598</th>\n",
       "      <th>599</th>\n",
       "      <th>target</th>\n",
       "    </tr>\n",
       "  </thead>\n",
       "  <tbody>\n",
       "    <tr>\n",
       "      <th>28</th>\n",
       "      <td>3.287063</td>\n",
       "      <td>3.342324</td>\n",
       "      <td>3.462696</td>\n",
       "      <td>3.608864</td>\n",
       "      <td>3.683111</td>\n",
       "      <td>3.764133</td>\n",
       "      <td>3.824438</td>\n",
       "      <td>3.902464</td>\n",
       "      <td>3.929437</td>\n",
       "      <td>4.014838</td>\n",
       "      <td>...</td>\n",
       "      <td>-1.747367</td>\n",
       "      <td>-1.925979</td>\n",
       "      <td>-1.949774</td>\n",
       "      <td>-1.889547</td>\n",
       "      <td>-1.888047</td>\n",
       "      <td>-1.908365</td>\n",
       "      <td>-1.980823</td>\n",
       "      <td>-2.026748</td>\n",
       "      <td>-2.095880</td>\n",
       "      <td>1</td>\n",
       "    </tr>\n",
       "    <tr>\n",
       "      <th>309</th>\n",
       "      <td>1.237257</td>\n",
       "      <td>2.167152</td>\n",
       "      <td>2.047360</td>\n",
       "      <td>1.759997</td>\n",
       "      <td>1.946670</td>\n",
       "      <td>2.011273</td>\n",
       "      <td>1.801660</td>\n",
       "      <td>1.773356</td>\n",
       "      <td>1.499285</td>\n",
       "      <td>1.616764</td>\n",
       "      <td>...</td>\n",
       "      <td>6.913927</td>\n",
       "      <td>6.864207</td>\n",
       "      <td>6.892620</td>\n",
       "      <td>6.892296</td>\n",
       "      <td>6.969018</td>\n",
       "      <td>6.990944</td>\n",
       "      <td>6.954823</td>\n",
       "      <td>6.998709</td>\n",
       "      <td>7.072531</td>\n",
       "      <td>1</td>\n",
       "    </tr>\n",
       "    <tr>\n",
       "      <th>665</th>\n",
       "      <td>1.926135</td>\n",
       "      <td>1.997347</td>\n",
       "      <td>2.144765</td>\n",
       "      <td>2.255001</td>\n",
       "      <td>2.329303</td>\n",
       "      <td>2.377606</td>\n",
       "      <td>2.375842</td>\n",
       "      <td>2.345305</td>\n",
       "      <td>2.293009</td>\n",
       "      <td>2.263539</td>\n",
       "      <td>...</td>\n",
       "      <td>5.339002</td>\n",
       "      <td>5.384694</td>\n",
       "      <td>5.354743</td>\n",
       "      <td>5.339224</td>\n",
       "      <td>5.270135</td>\n",
       "      <td>5.219827</td>\n",
       "      <td>5.204131</td>\n",
       "      <td>5.161036</td>\n",
       "      <td>4.692395</td>\n",
       "      <td>1</td>\n",
       "    </tr>\n",
       "    <tr>\n",
       "      <th>711</th>\n",
       "      <td>-4.979350</td>\n",
       "      <td>-5.082941</td>\n",
       "      <td>-5.122791</td>\n",
       "      <td>-5.082695</td>\n",
       "      <td>-5.012335</td>\n",
       "      <td>-5.008449</td>\n",
       "      <td>-4.907021</td>\n",
       "      <td>-4.786197</td>\n",
       "      <td>-4.735909</td>\n",
       "      <td>-4.767556</td>\n",
       "      <td>...</td>\n",
       "      <td>2.610620</td>\n",
       "      <td>2.610986</td>\n",
       "      <td>2.603435</td>\n",
       "      <td>2.527036</td>\n",
       "      <td>2.500861</td>\n",
       "      <td>2.457423</td>\n",
       "      <td>2.458748</td>\n",
       "      <td>2.412879</td>\n",
       "      <td>2.325164</td>\n",
       "      <td>0</td>\n",
       "    </tr>\n",
       "    <tr>\n",
       "      <th>419</th>\n",
       "      <td>-2.551828</td>\n",
       "      <td>-2.557496</td>\n",
       "      <td>-2.560609</td>\n",
       "      <td>-2.568806</td>\n",
       "      <td>-2.569560</td>\n",
       "      <td>-2.567642</td>\n",
       "      <td>-2.569066</td>\n",
       "      <td>-2.556792</td>\n",
       "      <td>-2.562415</td>\n",
       "      <td>-2.544865</td>\n",
       "      <td>...</td>\n",
       "      <td>3.873017</td>\n",
       "      <td>3.866005</td>\n",
       "      <td>3.859453</td>\n",
       "      <td>3.853207</td>\n",
       "      <td>3.876146</td>\n",
       "      <td>3.923818</td>\n",
       "      <td>3.976807</td>\n",
       "      <td>4.068387</td>\n",
       "      <td>4.167744</td>\n",
       "      <td>1</td>\n",
       "    </tr>\n",
       "    <tr>\n",
       "      <th>...</th>\n",
       "      <td>...</td>\n",
       "      <td>...</td>\n",
       "      <td>...</td>\n",
       "      <td>...</td>\n",
       "      <td>...</td>\n",
       "      <td>...</td>\n",
       "      <td>...</td>\n",
       "      <td>...</td>\n",
       "      <td>...</td>\n",
       "      <td>...</td>\n",
       "      <td>...</td>\n",
       "      <td>...</td>\n",
       "      <td>...</td>\n",
       "      <td>...</td>\n",
       "      <td>...</td>\n",
       "      <td>...</td>\n",
       "      <td>...</td>\n",
       "      <td>...</td>\n",
       "      <td>...</td>\n",
       "      <td>...</td>\n",
       "      <td>...</td>\n",
       "    </tr>\n",
       "    <tr>\n",
       "      <th>212</th>\n",
       "      <td>5.366236</td>\n",
       "      <td>5.266136</td>\n",
       "      <td>5.150376</td>\n",
       "      <td>5.089555</td>\n",
       "      <td>5.065846</td>\n",
       "      <td>5.044894</td>\n",
       "      <td>5.025801</td>\n",
       "      <td>5.013602</td>\n",
       "      <td>4.936835</td>\n",
       "      <td>4.830000</td>\n",
       "      <td>...</td>\n",
       "      <td>5.404031</td>\n",
       "      <td>5.355861</td>\n",
       "      <td>5.346964</td>\n",
       "      <td>5.305434</td>\n",
       "      <td>5.273613</td>\n",
       "      <td>5.247769</td>\n",
       "      <td>5.221568</td>\n",
       "      <td>5.172945</td>\n",
       "      <td>5.146442</td>\n",
       "      <td>0</td>\n",
       "    </tr>\n",
       "    <tr>\n",
       "      <th>219</th>\n",
       "      <td>6.662252</td>\n",
       "      <td>6.675446</td>\n",
       "      <td>6.744643</td>\n",
       "      <td>6.847190</td>\n",
       "      <td>6.969999</td>\n",
       "      <td>7.052656</td>\n",
       "      <td>7.191046</td>\n",
       "      <td>7.309616</td>\n",
       "      <td>7.439942</td>\n",
       "      <td>7.561720</td>\n",
       "      <td>...</td>\n",
       "      <td>-2.124505</td>\n",
       "      <td>-2.125954</td>\n",
       "      <td>-2.116591</td>\n",
       "      <td>-2.107513</td>\n",
       "      <td>-2.109763</td>\n",
       "      <td>-2.109634</td>\n",
       "      <td>-2.124127</td>\n",
       "      <td>-2.146639</td>\n",
       "      <td>-2.155785</td>\n",
       "      <td>0</td>\n",
       "    </tr>\n",
       "    <tr>\n",
       "      <th>98</th>\n",
       "      <td>3.274436</td>\n",
       "      <td>3.290791</td>\n",
       "      <td>3.328279</td>\n",
       "      <td>3.375026</td>\n",
       "      <td>3.389203</td>\n",
       "      <td>3.391874</td>\n",
       "      <td>3.452699</td>\n",
       "      <td>3.542644</td>\n",
       "      <td>3.619321</td>\n",
       "      <td>3.685639</td>\n",
       "      <td>...</td>\n",
       "      <td>0.798853</td>\n",
       "      <td>0.799844</td>\n",
       "      <td>0.806401</td>\n",
       "      <td>0.817191</td>\n",
       "      <td>0.804972</td>\n",
       "      <td>0.778306</td>\n",
       "      <td>0.768206</td>\n",
       "      <td>0.772035</td>\n",
       "      <td>0.773125</td>\n",
       "      <td>1</td>\n",
       "    </tr>\n",
       "    <tr>\n",
       "      <th>105</th>\n",
       "      <td>4.694958</td>\n",
       "      <td>4.659804</td>\n",
       "      <td>4.658375</td>\n",
       "      <td>4.641747</td>\n",
       "      <td>4.642281</td>\n",
       "      <td>4.655392</td>\n",
       "      <td>4.682671</td>\n",
       "      <td>4.686828</td>\n",
       "      <td>4.716162</td>\n",
       "      <td>4.688738</td>\n",
       "      <td>...</td>\n",
       "      <td>1.524015</td>\n",
       "      <td>1.536951</td>\n",
       "      <td>1.523328</td>\n",
       "      <td>1.547623</td>\n",
       "      <td>1.544236</td>\n",
       "      <td>1.512267</td>\n",
       "      <td>1.496291</td>\n",
       "      <td>1.526792</td>\n",
       "      <td>1.533531</td>\n",
       "      <td>0</td>\n",
       "    </tr>\n",
       "    <tr>\n",
       "      <th>43</th>\n",
       "      <td>5.187797</td>\n",
       "      <td>5.087882</td>\n",
       "      <td>4.938285</td>\n",
       "      <td>5.031524</td>\n",
       "      <td>5.102392</td>\n",
       "      <td>5.088203</td>\n",
       "      <td>5.058500</td>\n",
       "      <td>5.214746</td>\n",
       "      <td>5.266651</td>\n",
       "      <td>5.381662</td>\n",
       "      <td>...</td>\n",
       "      <td>0.954750</td>\n",
       "      <td>0.913811</td>\n",
       "      <td>0.885019</td>\n",
       "      <td>0.736545</td>\n",
       "      <td>0.569546</td>\n",
       "      <td>0.523264</td>\n",
       "      <td>0.497791</td>\n",
       "      <td>0.469944</td>\n",
       "      <td>0.467775</td>\n",
       "      <td>0</td>\n",
       "    </tr>\n",
       "  </tbody>\n",
       "</table>\n",
       "<p>2041 rows × 601 columns</p>\n",
       "</div>"
      ],
      "text/plain": [
       "            0         1         2         3         4         5         6  \\\n",
       "28   3.287063  3.342324  3.462696  3.608864  3.683111  3.764133  3.824438   \n",
       "309  1.237257  2.167152  2.047360  1.759997  1.946670  2.011273  1.801660   \n",
       "665  1.926135  1.997347  2.144765  2.255001  2.329303  2.377606  2.375842   \n",
       "711 -4.979350 -5.082941 -5.122791 -5.082695 -5.012335 -5.008449 -4.907021   \n",
       "419 -2.551828 -2.557496 -2.560609 -2.568806 -2.569560 -2.567642 -2.569066   \n",
       "..        ...       ...       ...       ...       ...       ...       ...   \n",
       "212  5.366236  5.266136  5.150376  5.089555  5.065846  5.044894  5.025801   \n",
       "219  6.662252  6.675446  6.744643  6.847190  6.969999  7.052656  7.191046   \n",
       "98   3.274436  3.290791  3.328279  3.375026  3.389203  3.391874  3.452699   \n",
       "105  4.694958  4.659804  4.658375  4.641747  4.642281  4.655392  4.682671   \n",
       "43   5.187797  5.087882  4.938285  5.031524  5.102392  5.088203  5.058500   \n",
       "\n",
       "            7         8         9  ...       591       592       593  \\\n",
       "28   3.902464  3.929437  4.014838  ... -1.747367 -1.925979 -1.949774   \n",
       "309  1.773356  1.499285  1.616764  ...  6.913927  6.864207  6.892620   \n",
       "665  2.345305  2.293009  2.263539  ...  5.339002  5.384694  5.354743   \n",
       "711 -4.786197 -4.735909 -4.767556  ...  2.610620  2.610986  2.603435   \n",
       "419 -2.556792 -2.562415 -2.544865  ...  3.873017  3.866005  3.859453   \n",
       "..        ...       ...       ...  ...       ...       ...       ...   \n",
       "212  5.013602  4.936835  4.830000  ...  5.404031  5.355861  5.346964   \n",
       "219  7.309616  7.439942  7.561720  ... -2.124505 -2.125954 -2.116591   \n",
       "98   3.542644  3.619321  3.685639  ...  0.798853  0.799844  0.806401   \n",
       "105  4.686828  4.716162  4.688738  ...  1.524015  1.536951  1.523328   \n",
       "43   5.214746  5.266651  5.381662  ...  0.954750  0.913811  0.885019   \n",
       "\n",
       "          594       595       596       597       598       599  target  \n",
       "28  -1.889547 -1.888047 -1.908365 -1.980823 -2.026748 -2.095880       1  \n",
       "309  6.892296  6.969018  6.990944  6.954823  6.998709  7.072531       1  \n",
       "665  5.339224  5.270135  5.219827  5.204131  5.161036  4.692395       1  \n",
       "711  2.527036  2.500861  2.457423  2.458748  2.412879  2.325164       0  \n",
       "419  3.853207  3.876146  3.923818  3.976807  4.068387  4.167744       1  \n",
       "..        ...       ...       ...       ...       ...       ...     ...  \n",
       "212  5.305434  5.273613  5.247769  5.221568  5.172945  5.146442       0  \n",
       "219 -2.107513 -2.109763 -2.109634 -2.124127 -2.146639 -2.155785       0  \n",
       "98   0.817191  0.804972  0.778306  0.768206  0.772035  0.773125       1  \n",
       "105  1.547623  1.544236  1.512267  1.496291  1.526792  1.533531       0  \n",
       "43   0.736545  0.569546  0.523264  0.497791  0.469944  0.467775       0  \n",
       "\n",
       "[2041 rows x 601 columns]"
      ]
     },
     "execution_count": 42,
     "metadata": {},
     "output_type": "execute_result"
    }
   ],
   "source": [
    "df"
   ]
  },
  {
   "cell_type": "code",
   "execution_count": 43,
   "id": "c2163bfa",
   "metadata": {},
   "outputs": [
    {
     "data": {
      "text/plain": [
       "28     1\n",
       "309    1\n",
       "665    1\n",
       "711    0\n",
       "419    1\n",
       "      ..\n",
       "212    0\n",
       "219    0\n",
       "98     1\n",
       "105    0\n",
       "43     0\n",
       "Name: target, Length: 2041, dtype: int64"
      ]
     },
     "execution_count": 43,
     "metadata": {},
     "output_type": "execute_result"
    }
   ],
   "source": [
    "# Separate the target from the dataset\n",
    "target = df['target'].copy()\n",
    "target"
   ]
  },
  {
   "cell_type": "code",
   "execution_count": 44,
   "id": "7c122ddd",
   "metadata": {},
   "outputs": [],
   "source": [
    "df = df.drop(columns = [\"target\"])"
   ]
  },
  {
   "cell_type": "code",
   "execution_count": 45,
   "id": "76c065ad",
   "metadata": {},
   "outputs": [],
   "source": [
    "# split the dataset for training and testing samples\n",
    "X_train, X_test, y_train, y_test = train_test_split( df, target, test_size=0.2, random_state=42)"
   ]
  },
  {
   "cell_type": "code",
   "execution_count": 46,
   "id": "601cf710",
   "metadata": {},
   "outputs": [
    {
     "data": {
      "text/plain": [
       "<BarContainer object of 2 artists>"
      ]
     },
     "execution_count": 46,
     "metadata": {},
     "output_type": "execute_result"
    },
    {
     "data": {
      "image/png": "[encoded data removed]",
      "text/plain": [
       "<Figure size 432x288 with 1 Axes>"
      ]
     },
     "metadata": {
      "needs_background": "light"
     },
     "output_type": "display_data"
    }
   ],
   "source": [
    "cat_train = pd.DataFrame(y_train)\n",
    "cat_train[\"count\"] = 1\n",
    "cat_train = cat_train.groupby(\"target\").sum().reset_index()\n",
    "x = cat_train[\"target\"]\n",
    "y = cat_train[\"count\"]\n",
    "plt.bar(x, y)"
   ]
  },
  {
   "cell_type": "markdown",
   "id": "8b8aa218",
   "metadata": {},
   "source": [
    "Here I just wanted to make sure that the amount of real photos in the training set is not too far from the number of fake photos."
   ]
  },
  {
   "cell_type": "markdown",
   "id": "80017339",
   "metadata": {},
   "source": [
    "## Logistic Regression"
   ]
  },
  {
   "cell_type": "code",
   "execution_count": 47,
   "id": "ee4746d9",
   "metadata": {},
   "outputs": [
    {
     "name": "stderr",
     "output_type": "stream",
     "text": [
      "c:\\users\\imane\\appdata\\local\\programs\\python\\python39\\lib\\site-packages\\sklearn\\linear_model\\_logistic.py:814: ConvergenceWarning: lbfgs failed to converge (status=1):\n",
      "STOP: TOTAL NO. of ITERATIONS REACHED LIMIT.\n",
      "\n",
      "Increase the number of iterations (max_iter) or scale the data as shown in:\n",
      "    https://scikit-learn.org/stable/modules/preprocessing.html\n",
      "Please also refer to the documentation for alternative solver options:\n",
      "    https://scikit-learn.org/stable/modules/linear_model.html#logistic-regression\n",
      "  n_iter_i = _check_optimize_result(\n",
      "c:\\users\\imane\\appdata\\local\\programs\\python\\python39\\lib\\site-packages\\sklearn\\linear_model\\_logistic.py:814: ConvergenceWarning: lbfgs failed to converge (status=1):\n",
      "STOP: TOTAL NO. of ITERATIONS REACHED LIMIT.\n",
      "\n",
      "Increase the number of iterations (max_iter) or scale the data as shown in:\n",
      "    https://scikit-learn.org/stable/modules/preprocessing.html\n",
      "Please also refer to the documentation for alternative solver options:\n",
      "    https://scikit-learn.org/stable/modules/linear_model.html#logistic-regression\n",
      "  n_iter_i = _check_optimize_result(\n",
      "c:\\users\\imane\\appdata\\local\\programs\\python\\python39\\lib\\site-packages\\sklearn\\linear_model\\_logistic.py:814: ConvergenceWarning: lbfgs failed to converge (status=1):\n",
      "STOP: TOTAL NO. of ITERATIONS REACHED LIMIT.\n",
      "\n",
      "Increase the number of iterations (max_iter) or scale the data as shown in:\n",
      "    https://scikit-learn.org/stable/modules/preprocessing.html\n",
      "Please also refer to the documentation for alternative solver options:\n",
      "    https://scikit-learn.org/stable/modules/linear_model.html#logistic-regression\n",
      "  n_iter_i = _check_optimize_result(\n",
      "c:\\users\\imane\\appdata\\local\\programs\\python\\python39\\lib\\site-packages\\sklearn\\linear_model\\_logistic.py:814: ConvergenceWarning: lbfgs failed to converge (status=1):\n",
      "STOP: TOTAL NO. of ITERATIONS REACHED LIMIT.\n",
      "\n",
      "Increase the number of iterations (max_iter) or scale the data as shown in:\n",
      "    https://scikit-learn.org/stable/modules/preprocessing.html\n",
      "Please also refer to the documentation for alternative solver options:\n",
      "    https://scikit-learn.org/stable/modules/linear_model.html#logistic-regression\n",
      "  n_iter_i = _check_optimize_result(\n",
      "c:\\users\\imane\\appdata\\local\\programs\\python\\python39\\lib\\site-packages\\sklearn\\linear_model\\_logistic.py:814: ConvergenceWarning: lbfgs failed to converge (status=1):\n",
      "STOP: TOTAL NO. of ITERATIONS REACHED LIMIT.\n",
      "\n",
      "Increase the number of iterations (max_iter) or scale the data as shown in:\n",
      "    https://scikit-learn.org/stable/modules/preprocessing.html\n",
      "Please also refer to the documentation for alternative solver options:\n",
      "    https://scikit-learn.org/stable/modules/linear_model.html#logistic-regression\n",
      "  n_iter_i = _check_optimize_result(\n",
      "c:\\users\\imane\\appdata\\local\\programs\\python\\python39\\lib\\site-packages\\sklearn\\linear_model\\_logistic.py:814: ConvergenceWarning: lbfgs failed to converge (status=1):\n",
      "STOP: TOTAL NO. of ITERATIONS REACHED LIMIT.\n",
      "\n",
      "Increase the number of iterations (max_iter) or scale the data as shown in:\n",
      "    https://scikit-learn.org/stable/modules/preprocessing.html\n",
      "Please also refer to the documentation for alternative solver options:\n",
      "    https://scikit-learn.org/stable/modules/linear_model.html#logistic-regression\n",
      "  n_iter_i = _check_optimize_result(\n",
      "c:\\users\\imane\\appdata\\local\\programs\\python\\python39\\lib\\site-packages\\sklearn\\linear_model\\_logistic.py:814: ConvergenceWarning: lbfgs failed to converge (status=1):\n",
      "STOP: TOTAL NO. of ITERATIONS REACHED LIMIT.\n",
      "\n",
      "Increase the number of iterations (max_iter) or scale the data as shown in:\n",
      "    https://scikit-learn.org/stable/modules/preprocessing.html\n",
      "Please also refer to the documentation for alternative solver options:\n",
      "    https://scikit-learn.org/stable/modules/linear_model.html#logistic-regression\n",
      "  n_iter_i = _check_optimize_result(\n",
      "c:\\users\\imane\\appdata\\local\\programs\\python\\python39\\lib\\site-packages\\sklearn\\linear_model\\_logistic.py:814: ConvergenceWarning: lbfgs failed to converge (status=1):\n",
      "STOP: TOTAL NO. of ITERATIONS REACHED LIMIT.\n",
      "\n",
      "Increase the number of iterations (max_iter) or scale the data as shown in:\n",
      "    https://scikit-learn.org/stable/modules/preprocessing.html\n",
      "Please also refer to the documentation for alternative solver options:\n",
      "    https://scikit-learn.org/stable/modules/linear_model.html#logistic-regression\n",
      "  n_iter_i = _check_optimize_result(\n",
      "c:\\users\\imane\\appdata\\local\\programs\\python\\python39\\lib\\site-packages\\sklearn\\linear_model\\_logistic.py:814: ConvergenceWarning: lbfgs failed to converge (status=1):\n",
      "STOP: TOTAL NO. of ITERATIONS REACHED LIMIT.\n",
      "\n",
      "Increase the number of iterations (max_iter) or scale the data as shown in:\n",
      "    https://scikit-learn.org/stable/modules/preprocessing.html\n",
      "Please also refer to the documentation for alternative solver options:\n",
      "    https://scikit-learn.org/stable/modules/linear_model.html#logistic-regression\n",
      "  n_iter_i = _check_optimize_result(\n",
      "c:\\users\\imane\\appdata\\local\\programs\\python\\python39\\lib\\site-packages\\sklearn\\linear_model\\_logistic.py:814: ConvergenceWarning: lbfgs failed to converge (status=1):\n",
      "STOP: TOTAL NO. of ITERATIONS REACHED LIMIT.\n",
      "\n",
      "Increase the number of iterations (max_iter) or scale the data as shown in:\n",
      "    https://scikit-learn.org/stable/modules/preprocessing.html\n",
      "Please also refer to the documentation for alternative solver options:\n",
      "    https://scikit-learn.org/stable/modules/linear_model.html#logistic-regression\n",
      "  n_iter_i = _check_optimize_result(\n",
      "c:\\users\\imane\\appdata\\local\\programs\\python\\python39\\lib\\site-packages\\sklearn\\linear_model\\_logistic.py:814: ConvergenceWarning: lbfgs failed to converge (status=1):\n",
      "STOP: TOTAL NO. of ITERATIONS REACHED LIMIT.\n",
      "\n",
      "Increase the number of iterations (max_iter) or scale the data as shown in:\n",
      "    https://scikit-learn.org/stable/modules/preprocessing.html\n",
      "Please also refer to the documentation for alternative solver options:\n",
      "    https://scikit-learn.org/stable/modules/linear_model.html#logistic-regression\n",
      "  n_iter_i = _check_optimize_result(\n",
      "c:\\users\\imane\\appdata\\local\\programs\\python\\python39\\lib\\site-packages\\sklearn\\linear_model\\_logistic.py:814: ConvergenceWarning: lbfgs failed to converge (status=1):\n",
      "STOP: TOTAL NO. of ITERATIONS REACHED LIMIT.\n",
      "\n",
      "Increase the number of iterations (max_iter) or scale the data as shown in:\n",
      "    https://scikit-learn.org/stable/modules/preprocessing.html\n",
      "Please also refer to the documentation for alternative solver options:\n",
      "    https://scikit-learn.org/stable/modules/linear_model.html#logistic-regression\n",
      "  n_iter_i = _check_optimize_result(\n",
      "c:\\users\\imane\\appdata\\local\\programs\\python\\python39\\lib\\site-packages\\sklearn\\linear_model\\_logistic.py:814: ConvergenceWarning: lbfgs failed to converge (status=1):\n",
      "STOP: TOTAL NO. of ITERATIONS REACHED LIMIT.\n",
      "\n",
      "Increase the number of iterations (max_iter) or scale the data as shown in:\n",
      "    https://scikit-learn.org/stable/modules/preprocessing.html\n",
      "Please also refer to the documentation for alternative solver options:\n",
      "    https://scikit-learn.org/stable/modules/linear_model.html#logistic-regression\n",
      "  n_iter_i = _check_optimize_result(\n",
      "c:\\users\\imane\\appdata\\local\\programs\\python\\python39\\lib\\site-packages\\sklearn\\linear_model\\_logistic.py:814: ConvergenceWarning: lbfgs failed to converge (status=1):\n",
      "STOP: TOTAL NO. of ITERATIONS REACHED LIMIT.\n",
      "\n",
      "Increase the number of iterations (max_iter) or scale the data as shown in:\n",
      "    https://scikit-learn.org/stable/modules/preprocessing.html\n",
      "Please also refer to the documentation for alternative solver options:\n",
      "    https://scikit-learn.org/stable/modules/linear_model.html#logistic-regression\n",
      "  n_iter_i = _check_optimize_result(\n",
      "c:\\users\\imane\\appdata\\local\\programs\\python\\python39\\lib\\site-packages\\sklearn\\linear_model\\_logistic.py:814: ConvergenceWarning: lbfgs failed to converge (status=1):\n",
      "STOP: TOTAL NO. of ITERATIONS REACHED LIMIT.\n",
      "\n",
      "Increase the number of iterations (max_iter) or scale the data as shown in:\n",
      "    https://scikit-learn.org/stable/modules/preprocessing.html\n",
      "Please also refer to the documentation for alternative solver options:\n",
      "    https://scikit-learn.org/stable/modules/linear_model.html#logistic-regression\n",
      "  n_iter_i = _check_optimize_result(\n",
      "c:\\users\\imane\\appdata\\local\\programs\\python\\python39\\lib\\site-packages\\sklearn\\linear_model\\_logistic.py:814: ConvergenceWarning: lbfgs failed to converge (status=1):\n",
      "STOP: TOTAL NO. of ITERATIONS REACHED LIMIT.\n",
      "\n",
      "Increase the number of iterations (max_iter) or scale the data as shown in:\n",
      "    https://scikit-learn.org/stable/modules/preprocessing.html\n",
      "Please also refer to the documentation for alternative solver options:\n",
      "    https://scikit-learn.org/stable/modules/linear_model.html#logistic-regression\n",
      "  n_iter_i = _check_optimize_result(\n"
     ]
    },
    {
     "name": "stderr",
     "output_type": "stream",
     "text": [
      "c:\\users\\imane\\appdata\\local\\programs\\python\\python39\\lib\\site-packages\\sklearn\\linear_model\\_logistic.py:814: ConvergenceWarning: lbfgs failed to converge (status=1):\n",
      "STOP: TOTAL NO. of ITERATIONS REACHED LIMIT.\n",
      "\n",
      "Increase the number of iterations (max_iter) or scale the data as shown in:\n",
      "    https://scikit-learn.org/stable/modules/preprocessing.html\n",
      "Please also refer to the documentation for alternative solver options:\n",
      "    https://scikit-learn.org/stable/modules/linear_model.html#logistic-regression\n",
      "  n_iter_i = _check_optimize_result(\n",
      "c:\\users\\imane\\appdata\\local\\programs\\python\\python39\\lib\\site-packages\\sklearn\\linear_model\\_logistic.py:814: ConvergenceWarning: lbfgs failed to converge (status=1):\n",
      "STOP: TOTAL NO. of ITERATIONS REACHED LIMIT.\n",
      "\n",
      "Increase the number of iterations (max_iter) or scale the data as shown in:\n",
      "    https://scikit-learn.org/stable/modules/preprocessing.html\n",
      "Please also refer to the documentation for alternative solver options:\n",
      "    https://scikit-learn.org/stable/modules/linear_model.html#logistic-regression\n",
      "  n_iter_i = _check_optimize_result(\n",
      "c:\\users\\imane\\appdata\\local\\programs\\python\\python39\\lib\\site-packages\\sklearn\\linear_model\\_logistic.py:814: ConvergenceWarning: lbfgs failed to converge (status=1):\n",
      "STOP: TOTAL NO. of ITERATIONS REACHED LIMIT.\n",
      "\n",
      "Increase the number of iterations (max_iter) or scale the data as shown in:\n",
      "    https://scikit-learn.org/stable/modules/preprocessing.html\n",
      "Please also refer to the documentation for alternative solver options:\n",
      "    https://scikit-learn.org/stable/modules/linear_model.html#logistic-regression\n",
      "  n_iter_i = _check_optimize_result(\n",
      "c:\\users\\imane\\appdata\\local\\programs\\python\\python39\\lib\\site-packages\\sklearn\\linear_model\\_logistic.py:814: ConvergenceWarning: lbfgs failed to converge (status=1):\n",
      "STOP: TOTAL NO. of ITERATIONS REACHED LIMIT.\n",
      "\n",
      "Increase the number of iterations (max_iter) or scale the data as shown in:\n",
      "    https://scikit-learn.org/stable/modules/preprocessing.html\n",
      "Please also refer to the documentation for alternative solver options:\n",
      "    https://scikit-learn.org/stable/modules/linear_model.html#logistic-regression\n",
      "  n_iter_i = _check_optimize_result(\n",
      "c:\\users\\imane\\appdata\\local\\programs\\python\\python39\\lib\\site-packages\\sklearn\\linear_model\\_logistic.py:814: ConvergenceWarning: lbfgs failed to converge (status=1):\n",
      "STOP: TOTAL NO. of ITERATIONS REACHED LIMIT.\n",
      "\n",
      "Increase the number of iterations (max_iter) or scale the data as shown in:\n",
      "    https://scikit-learn.org/stable/modules/preprocessing.html\n",
      "Please also refer to the documentation for alternative solver options:\n",
      "    https://scikit-learn.org/stable/modules/linear_model.html#logistic-regression\n",
      "  n_iter_i = _check_optimize_result(\n",
      "c:\\users\\imane\\appdata\\local\\programs\\python\\python39\\lib\\site-packages\\sklearn\\linear_model\\_logistic.py:814: ConvergenceWarning: lbfgs failed to converge (status=1):\n",
      "STOP: TOTAL NO. of ITERATIONS REACHED LIMIT.\n",
      "\n",
      "Increase the number of iterations (max_iter) or scale the data as shown in:\n",
      "    https://scikit-learn.org/stable/modules/preprocessing.html\n",
      "Please also refer to the documentation for alternative solver options:\n",
      "    https://scikit-learn.org/stable/modules/linear_model.html#logistic-regression\n",
      "  n_iter_i = _check_optimize_result(\n",
      "c:\\users\\imane\\appdata\\local\\programs\\python\\python39\\lib\\site-packages\\sklearn\\linear_model\\_logistic.py:814: ConvergenceWarning: lbfgs failed to converge (status=1):\n",
      "STOP: TOTAL NO. of ITERATIONS REACHED LIMIT.\n",
      "\n",
      "Increase the number of iterations (max_iter) or scale the data as shown in:\n",
      "    https://scikit-learn.org/stable/modules/preprocessing.html\n",
      "Please also refer to the documentation for alternative solver options:\n",
      "    https://scikit-learn.org/stable/modules/linear_model.html#logistic-regression\n",
      "  n_iter_i = _check_optimize_result(\n",
      "c:\\users\\imane\\appdata\\local\\programs\\python\\python39\\lib\\site-packages\\sklearn\\linear_model\\_logistic.py:814: ConvergenceWarning: lbfgs failed to converge (status=1):\n",
      "STOP: TOTAL NO. of ITERATIONS REACHED LIMIT.\n",
      "\n",
      "Increase the number of iterations (max_iter) or scale the data as shown in:\n",
      "    https://scikit-learn.org/stable/modules/preprocessing.html\n",
      "Please also refer to the documentation for alternative solver options:\n",
      "    https://scikit-learn.org/stable/modules/linear_model.html#logistic-regression\n",
      "  n_iter_i = _check_optimize_result(\n",
      "c:\\users\\imane\\appdata\\local\\programs\\python\\python39\\lib\\site-packages\\sklearn\\linear_model\\_logistic.py:814: ConvergenceWarning: lbfgs failed to converge (status=1):\n",
      "STOP: TOTAL NO. of ITERATIONS REACHED LIMIT.\n",
      "\n",
      "Increase the number of iterations (max_iter) or scale the data as shown in:\n",
      "    https://scikit-learn.org/stable/modules/preprocessing.html\n",
      "Please also refer to the documentation for alternative solver options:\n",
      "    https://scikit-learn.org/stable/modules/linear_model.html#logistic-regression\n",
      "  n_iter_i = _check_optimize_result(\n",
      "c:\\users\\imane\\appdata\\local\\programs\\python\\python39\\lib\\site-packages\\sklearn\\linear_model\\_logistic.py:814: ConvergenceWarning: lbfgs failed to converge (status=1):\n",
      "STOP: TOTAL NO. of ITERATIONS REACHED LIMIT.\n",
      "\n",
      "Increase the number of iterations (max_iter) or scale the data as shown in:\n",
      "    https://scikit-learn.org/stable/modules/preprocessing.html\n",
      "Please also refer to the documentation for alternative solver options:\n",
      "    https://scikit-learn.org/stable/modules/linear_model.html#logistic-regression\n",
      "  n_iter_i = _check_optimize_result(\n",
      "c:\\users\\imane\\appdata\\local\\programs\\python\\python39\\lib\\site-packages\\sklearn\\linear_model\\_logistic.py:814: ConvergenceWarning: lbfgs failed to converge (status=1):\n",
      "STOP: TOTAL NO. of ITERATIONS REACHED LIMIT.\n",
      "\n",
      "Increase the number of iterations (max_iter) or scale the data as shown in:\n",
      "    https://scikit-learn.org/stable/modules/preprocessing.html\n",
      "Please also refer to the documentation for alternative solver options:\n",
      "    https://scikit-learn.org/stable/modules/linear_model.html#logistic-regression\n",
      "  n_iter_i = _check_optimize_result(\n",
      "c:\\users\\imane\\appdata\\local\\programs\\python\\python39\\lib\\site-packages\\sklearn\\linear_model\\_logistic.py:814: ConvergenceWarning: lbfgs failed to converge (status=1):\n",
      "STOP: TOTAL NO. of ITERATIONS REACHED LIMIT.\n",
      "\n",
      "Increase the number of iterations (max_iter) or scale the data as shown in:\n",
      "    https://scikit-learn.org/stable/modules/preprocessing.html\n",
      "Please also refer to the documentation for alternative solver options:\n",
      "    https://scikit-learn.org/stable/modules/linear_model.html#logistic-regression\n",
      "  n_iter_i = _check_optimize_result(\n",
      "c:\\users\\imane\\appdata\\local\\programs\\python\\python39\\lib\\site-packages\\sklearn\\linear_model\\_logistic.py:814: ConvergenceWarning: lbfgs failed to converge (status=1):\n",
      "STOP: TOTAL NO. of ITERATIONS REACHED LIMIT.\n",
      "\n",
      "Increase the number of iterations (max_iter) or scale the data as shown in:\n",
      "    https://scikit-learn.org/stable/modules/preprocessing.html\n",
      "Please also refer to the documentation for alternative solver options:\n",
      "    https://scikit-learn.org/stable/modules/linear_model.html#logistic-regression\n",
      "  n_iter_i = _check_optimize_result(\n",
      "c:\\users\\imane\\appdata\\local\\programs\\python\\python39\\lib\\site-packages\\sklearn\\linear_model\\_logistic.py:814: ConvergenceWarning: lbfgs failed to converge (status=1):\n",
      "STOP: TOTAL NO. of ITERATIONS REACHED LIMIT.\n",
      "\n",
      "Increase the number of iterations (max_iter) or scale the data as shown in:\n",
      "    https://scikit-learn.org/stable/modules/preprocessing.html\n",
      "Please also refer to the documentation for alternative solver options:\n",
      "    https://scikit-learn.org/stable/modules/linear_model.html#logistic-regression\n",
      "  n_iter_i = _check_optimize_result(\n",
      "c:\\users\\imane\\appdata\\local\\programs\\python\\python39\\lib\\site-packages\\sklearn\\linear_model\\_logistic.py:814: ConvergenceWarning: lbfgs failed to converge (status=1):\n",
      "STOP: TOTAL NO. of ITERATIONS REACHED LIMIT.\n",
      "\n",
      "Increase the number of iterations (max_iter) or scale the data as shown in:\n",
      "    https://scikit-learn.org/stable/modules/preprocessing.html\n",
      "Please also refer to the documentation for alternative solver options:\n",
      "    https://scikit-learn.org/stable/modules/linear_model.html#logistic-regression\n",
      "  n_iter_i = _check_optimize_result(\n",
      "c:\\users\\imane\\appdata\\local\\programs\\python\\python39\\lib\\site-packages\\sklearn\\linear_model\\_logistic.py:814: ConvergenceWarning: lbfgs failed to converge (status=1):\n",
      "STOP: TOTAL NO. of ITERATIONS REACHED LIMIT.\n",
      "\n",
      "Increase the number of iterations (max_iter) or scale the data as shown in:\n",
      "    https://scikit-learn.org/stable/modules/preprocessing.html\n",
      "Please also refer to the documentation for alternative solver options:\n",
      "    https://scikit-learn.org/stable/modules/linear_model.html#logistic-regression\n",
      "  n_iter_i = _check_optimize_result(\n"
     ]
    },
    {
     "name": "stderr",
     "output_type": "stream",
     "text": [
      "c:\\users\\imane\\appdata\\local\\programs\\python\\python39\\lib\\site-packages\\sklearn\\linear_model\\_logistic.py:814: ConvergenceWarning: lbfgs failed to converge (status=1):\n",
      "STOP: TOTAL NO. of ITERATIONS REACHED LIMIT.\n",
      "\n",
      "Increase the number of iterations (max_iter) or scale the data as shown in:\n",
      "    https://scikit-learn.org/stable/modules/preprocessing.html\n",
      "Please also refer to the documentation for alternative solver options:\n",
      "    https://scikit-learn.org/stable/modules/linear_model.html#logistic-regression\n",
      "  n_iter_i = _check_optimize_result(\n",
      "c:\\users\\imane\\appdata\\local\\programs\\python\\python39\\lib\\site-packages\\sklearn\\linear_model\\_logistic.py:814: ConvergenceWarning: lbfgs failed to converge (status=1):\n",
      "STOP: TOTAL NO. of ITERATIONS REACHED LIMIT.\n",
      "\n",
      "Increase the number of iterations (max_iter) or scale the data as shown in:\n",
      "    https://scikit-learn.org/stable/modules/preprocessing.html\n",
      "Please also refer to the documentation for alternative solver options:\n",
      "    https://scikit-learn.org/stable/modules/linear_model.html#logistic-regression\n",
      "  n_iter_i = _check_optimize_result(\n",
      "c:\\users\\imane\\appdata\\local\\programs\\python\\python39\\lib\\site-packages\\sklearn\\linear_model\\_logistic.py:814: ConvergenceWarning: lbfgs failed to converge (status=1):\n",
      "STOP: TOTAL NO. of ITERATIONS REACHED LIMIT.\n",
      "\n",
      "Increase the number of iterations (max_iter) or scale the data as shown in:\n",
      "    https://scikit-learn.org/stable/modules/preprocessing.html\n",
      "Please also refer to the documentation for alternative solver options:\n",
      "    https://scikit-learn.org/stable/modules/linear_model.html#logistic-regression\n",
      "  n_iter_i = _check_optimize_result(\n",
      "c:\\users\\imane\\appdata\\local\\programs\\python\\python39\\lib\\site-packages\\sklearn\\linear_model\\_logistic.py:814: ConvergenceWarning: lbfgs failed to converge (status=1):\n",
      "STOP: TOTAL NO. of ITERATIONS REACHED LIMIT.\n",
      "\n",
      "Increase the number of iterations (max_iter) or scale the data as shown in:\n",
      "    https://scikit-learn.org/stable/modules/preprocessing.html\n",
      "Please also refer to the documentation for alternative solver options:\n",
      "    https://scikit-learn.org/stable/modules/linear_model.html#logistic-regression\n",
      "  n_iter_i = _check_optimize_result(\n",
      "c:\\users\\imane\\appdata\\local\\programs\\python\\python39\\lib\\site-packages\\sklearn\\linear_model\\_logistic.py:814: ConvergenceWarning: lbfgs failed to converge (status=1):\n",
      "STOP: TOTAL NO. of ITERATIONS REACHED LIMIT.\n",
      "\n",
      "Increase the number of iterations (max_iter) or scale the data as shown in:\n",
      "    https://scikit-learn.org/stable/modules/preprocessing.html\n",
      "Please also refer to the documentation for alternative solver options:\n",
      "    https://scikit-learn.org/stable/modules/linear_model.html#logistic-regression\n",
      "  n_iter_i = _check_optimize_result(\n",
      "c:\\users\\imane\\appdata\\local\\programs\\python\\python39\\lib\\site-packages\\sklearn\\linear_model\\_logistic.py:814: ConvergenceWarning: lbfgs failed to converge (status=1):\n",
      "STOP: TOTAL NO. of ITERATIONS REACHED LIMIT.\n",
      "\n",
      "Increase the number of iterations (max_iter) or scale the data as shown in:\n",
      "    https://scikit-learn.org/stable/modules/preprocessing.html\n",
      "Please also refer to the documentation for alternative solver options:\n",
      "    https://scikit-learn.org/stable/modules/linear_model.html#logistic-regression\n",
      "  n_iter_i = _check_optimize_result(\n",
      "c:\\users\\imane\\appdata\\local\\programs\\python\\python39\\lib\\site-packages\\sklearn\\linear_model\\_logistic.py:814: ConvergenceWarning: lbfgs failed to converge (status=1):\n",
      "STOP: TOTAL NO. of ITERATIONS REACHED LIMIT.\n",
      "\n",
      "Increase the number of iterations (max_iter) or scale the data as shown in:\n",
      "    https://scikit-learn.org/stable/modules/preprocessing.html\n",
      "Please also refer to the documentation for alternative solver options:\n",
      "    https://scikit-learn.org/stable/modules/linear_model.html#logistic-regression\n",
      "  n_iter_i = _check_optimize_result(\n",
      "c:\\users\\imane\\appdata\\local\\programs\\python\\python39\\lib\\site-packages\\sklearn\\linear_model\\_logistic.py:814: ConvergenceWarning: lbfgs failed to converge (status=1):\n",
      "STOP: TOTAL NO. of ITERATIONS REACHED LIMIT.\n",
      "\n",
      "Increase the number of iterations (max_iter) or scale the data as shown in:\n",
      "    https://scikit-learn.org/stable/modules/preprocessing.html\n",
      "Please also refer to the documentation for alternative solver options:\n",
      "    https://scikit-learn.org/stable/modules/linear_model.html#logistic-regression\n",
      "  n_iter_i = _check_optimize_result(\n",
      "c:\\users\\imane\\appdata\\local\\programs\\python\\python39\\lib\\site-packages\\sklearn\\linear_model\\_logistic.py:814: ConvergenceWarning: lbfgs failed to converge (status=1):\n",
      "STOP: TOTAL NO. of ITERATIONS REACHED LIMIT.\n",
      "\n",
      "Increase the number of iterations (max_iter) or scale the data as shown in:\n",
      "    https://scikit-learn.org/stable/modules/preprocessing.html\n",
      "Please also refer to the documentation for alternative solver options:\n",
      "    https://scikit-learn.org/stable/modules/linear_model.html#logistic-regression\n",
      "  n_iter_i = _check_optimize_result(\n",
      "c:\\users\\imane\\appdata\\local\\programs\\python\\python39\\lib\\site-packages\\sklearn\\linear_model\\_logistic.py:814: ConvergenceWarning: lbfgs failed to converge (status=1):\n",
      "STOP: TOTAL NO. of ITERATIONS REACHED LIMIT.\n",
      "\n",
      "Increase the number of iterations (max_iter) or scale the data as shown in:\n",
      "    https://scikit-learn.org/stable/modules/preprocessing.html\n",
      "Please also refer to the documentation for alternative solver options:\n",
      "    https://scikit-learn.org/stable/modules/linear_model.html#logistic-regression\n",
      "  n_iter_i = _check_optimize_result(\n",
      "c:\\users\\imane\\appdata\\local\\programs\\python\\python39\\lib\\site-packages\\sklearn\\linear_model\\_logistic.py:814: ConvergenceWarning: lbfgs failed to converge (status=1):\n",
      "STOP: TOTAL NO. of ITERATIONS REACHED LIMIT.\n",
      "\n",
      "Increase the number of iterations (max_iter) or scale the data as shown in:\n",
      "    https://scikit-learn.org/stable/modules/preprocessing.html\n",
      "Please also refer to the documentation for alternative solver options:\n",
      "    https://scikit-learn.org/stable/modules/linear_model.html#logistic-regression\n",
      "  n_iter_i = _check_optimize_result(\n",
      "c:\\users\\imane\\appdata\\local\\programs\\python\\python39\\lib\\site-packages\\sklearn\\linear_model\\_logistic.py:814: ConvergenceWarning: lbfgs failed to converge (status=1):\n",
      "STOP: TOTAL NO. of ITERATIONS REACHED LIMIT.\n",
      "\n",
      "Increase the number of iterations (max_iter) or scale the data as shown in:\n",
      "    https://scikit-learn.org/stable/modules/preprocessing.html\n",
      "Please also refer to the documentation for alternative solver options:\n",
      "    https://scikit-learn.org/stable/modules/linear_model.html#logistic-regression\n",
      "  n_iter_i = _check_optimize_result(\n",
      "c:\\users\\imane\\appdata\\local\\programs\\python\\python39\\lib\\site-packages\\sklearn\\linear_model\\_logistic.py:814: ConvergenceWarning: lbfgs failed to converge (status=1):\n",
      "STOP: TOTAL NO. of ITERATIONS REACHED LIMIT.\n",
      "\n",
      "Increase the number of iterations (max_iter) or scale the data as shown in:\n",
      "    https://scikit-learn.org/stable/modules/preprocessing.html\n",
      "Please also refer to the documentation for alternative solver options:\n",
      "    https://scikit-learn.org/stable/modules/linear_model.html#logistic-regression\n",
      "  n_iter_i = _check_optimize_result(\n",
      "c:\\users\\imane\\appdata\\local\\programs\\python\\python39\\lib\\site-packages\\sklearn\\linear_model\\_logistic.py:814: ConvergenceWarning: lbfgs failed to converge (status=1):\n",
      "STOP: TOTAL NO. of ITERATIONS REACHED LIMIT.\n",
      "\n",
      "Increase the number of iterations (max_iter) or scale the data as shown in:\n",
      "    https://scikit-learn.org/stable/modules/preprocessing.html\n",
      "Please also refer to the documentation for alternative solver options:\n",
      "    https://scikit-learn.org/stable/modules/linear_model.html#logistic-regression\n",
      "  n_iter_i = _check_optimize_result(\n",
      "c:\\users\\imane\\appdata\\local\\programs\\python\\python39\\lib\\site-packages\\sklearn\\linear_model\\_logistic.py:814: ConvergenceWarning: lbfgs failed to converge (status=1):\n",
      "STOP: TOTAL NO. of ITERATIONS REACHED LIMIT.\n",
      "\n",
      "Increase the number of iterations (max_iter) or scale the data as shown in:\n",
      "    https://scikit-learn.org/stable/modules/preprocessing.html\n",
      "Please also refer to the documentation for alternative solver options:\n",
      "    https://scikit-learn.org/stable/modules/linear_model.html#logistic-regression\n",
      "  n_iter_i = _check_optimize_result(\n",
      "c:\\users\\imane\\appdata\\local\\programs\\python\\python39\\lib\\site-packages\\sklearn\\linear_model\\_logistic.py:814: ConvergenceWarning: lbfgs failed to converge (status=1):\n",
      "STOP: TOTAL NO. of ITERATIONS REACHED LIMIT.\n",
      "\n",
      "Increase the number of iterations (max_iter) or scale the data as shown in:\n",
      "    https://scikit-learn.org/stable/modules/preprocessing.html\n",
      "Please also refer to the documentation for alternative solver options:\n",
      "    https://scikit-learn.org/stable/modules/linear_model.html#logistic-regression\n",
      "  n_iter_i = _check_optimize_result(\n"
     ]
    },
    {
     "name": "stderr",
     "output_type": "stream",
     "text": [
      "c:\\users\\imane\\appdata\\local\\programs\\python\\python39\\lib\\site-packages\\sklearn\\linear_model\\_logistic.py:814: ConvergenceWarning: lbfgs failed to converge (status=1):\n",
      "STOP: TOTAL NO. of ITERATIONS REACHED LIMIT.\n",
      "\n",
      "Increase the number of iterations (max_iter) or scale the data as shown in:\n",
      "    https://scikit-learn.org/stable/modules/preprocessing.html\n",
      "Please also refer to the documentation for alternative solver options:\n",
      "    https://scikit-learn.org/stable/modules/linear_model.html#logistic-regression\n",
      "  n_iter_i = _check_optimize_result(\n",
      "c:\\users\\imane\\appdata\\local\\programs\\python\\python39\\lib\\site-packages\\sklearn\\linear_model\\_logistic.py:814: ConvergenceWarning: lbfgs failed to converge (status=1):\n",
      "STOP: TOTAL NO. of ITERATIONS REACHED LIMIT.\n",
      "\n",
      "Increase the number of iterations (max_iter) or scale the data as shown in:\n",
      "    https://scikit-learn.org/stable/modules/preprocessing.html\n",
      "Please also refer to the documentation for alternative solver options:\n",
      "    https://scikit-learn.org/stable/modules/linear_model.html#logistic-regression\n",
      "  n_iter_i = _check_optimize_result(\n",
      "c:\\users\\imane\\appdata\\local\\programs\\python\\python39\\lib\\site-packages\\sklearn\\linear_model\\_logistic.py:814: ConvergenceWarning: lbfgs failed to converge (status=1):\n",
      "STOP: TOTAL NO. of ITERATIONS REACHED LIMIT.\n",
      "\n",
      "Increase the number of iterations (max_iter) or scale the data as shown in:\n",
      "    https://scikit-learn.org/stable/modules/preprocessing.html\n",
      "Please also refer to the documentation for alternative solver options:\n",
      "    https://scikit-learn.org/stable/modules/linear_model.html#logistic-regression\n",
      "  n_iter_i = _check_optimize_result(\n",
      "c:\\users\\imane\\appdata\\local\\programs\\python\\python39\\lib\\site-packages\\sklearn\\linear_model\\_logistic.py:814: ConvergenceWarning: lbfgs failed to converge (status=1):\n",
      "STOP: TOTAL NO. of ITERATIONS REACHED LIMIT.\n",
      "\n",
      "Increase the number of iterations (max_iter) or scale the data as shown in:\n",
      "    https://scikit-learn.org/stable/modules/preprocessing.html\n",
      "Please also refer to the documentation for alternative solver options:\n",
      "    https://scikit-learn.org/stable/modules/linear_model.html#logistic-regression\n",
      "  n_iter_i = _check_optimize_result(\n",
      "c:\\users\\imane\\appdata\\local\\programs\\python\\python39\\lib\\site-packages\\sklearn\\linear_model\\_logistic.py:814: ConvergenceWarning: lbfgs failed to converge (status=1):\n",
      "STOP: TOTAL NO. of ITERATIONS REACHED LIMIT.\n",
      "\n",
      "Increase the number of iterations (max_iter) or scale the data as shown in:\n",
      "    https://scikit-learn.org/stable/modules/preprocessing.html\n",
      "Please also refer to the documentation for alternative solver options:\n",
      "    https://scikit-learn.org/stable/modules/linear_model.html#logistic-regression\n",
      "  n_iter_i = _check_optimize_result(\n",
      "c:\\users\\imane\\appdata\\local\\programs\\python\\python39\\lib\\site-packages\\sklearn\\linear_model\\_logistic.py:814: ConvergenceWarning: lbfgs failed to converge (status=1):\n",
      "STOP: TOTAL NO. of ITERATIONS REACHED LIMIT.\n",
      "\n",
      "Increase the number of iterations (max_iter) or scale the data as shown in:\n",
      "    https://scikit-learn.org/stable/modules/preprocessing.html\n",
      "Please also refer to the documentation for alternative solver options:\n",
      "    https://scikit-learn.org/stable/modules/linear_model.html#logistic-regression\n",
      "  n_iter_i = _check_optimize_result(\n",
      "c:\\users\\imane\\appdata\\local\\programs\\python\\python39\\lib\\site-packages\\sklearn\\linear_model\\_logistic.py:814: ConvergenceWarning: lbfgs failed to converge (status=1):\n",
      "STOP: TOTAL NO. of ITERATIONS REACHED LIMIT.\n",
      "\n",
      "Increase the number of iterations (max_iter) or scale the data as shown in:\n",
      "    https://scikit-learn.org/stable/modules/preprocessing.html\n",
      "Please also refer to the documentation for alternative solver options:\n",
      "    https://scikit-learn.org/stable/modules/linear_model.html#logistic-regression\n",
      "  n_iter_i = _check_optimize_result(\n",
      "c:\\users\\imane\\appdata\\local\\programs\\python\\python39\\lib\\site-packages\\sklearn\\linear_model\\_logistic.py:814: ConvergenceWarning: lbfgs failed to converge (status=1):\n",
      "STOP: TOTAL NO. of ITERATIONS REACHED LIMIT.\n",
      "\n",
      "Increase the number of iterations (max_iter) or scale the data as shown in:\n",
      "    https://scikit-learn.org/stable/modules/preprocessing.html\n",
      "Please also refer to the documentation for alternative solver options:\n",
      "    https://scikit-learn.org/stable/modules/linear_model.html#logistic-regression\n",
      "  n_iter_i = _check_optimize_result(\n",
      "c:\\users\\imane\\appdata\\local\\programs\\python\\python39\\lib\\site-packages\\sklearn\\linear_model\\_logistic.py:814: ConvergenceWarning: lbfgs failed to converge (status=1):\n",
      "STOP: TOTAL NO. of ITERATIONS REACHED LIMIT.\n",
      "\n",
      "Increase the number of iterations (max_iter) or scale the data as shown in:\n",
      "    https://scikit-learn.org/stable/modules/preprocessing.html\n",
      "Please also refer to the documentation for alternative solver options:\n",
      "    https://scikit-learn.org/stable/modules/linear_model.html#logistic-regression\n",
      "  n_iter_i = _check_optimize_result(\n",
      "c:\\users\\imane\\appdata\\local\\programs\\python\\python39\\lib\\site-packages\\sklearn\\linear_model\\_logistic.py:814: ConvergenceWarning: lbfgs failed to converge (status=1):\n",
      "STOP: TOTAL NO. of ITERATIONS REACHED LIMIT.\n",
      "\n",
      "Increase the number of iterations (max_iter) or scale the data as shown in:\n",
      "    https://scikit-learn.org/stable/modules/preprocessing.html\n",
      "Please also refer to the documentation for alternative solver options:\n",
      "    https://scikit-learn.org/stable/modules/linear_model.html#logistic-regression\n",
      "  n_iter_i = _check_optimize_result(\n",
      "c:\\users\\imane\\appdata\\local\\programs\\python\\python39\\lib\\site-packages\\sklearn\\linear_model\\_logistic.py:814: ConvergenceWarning: lbfgs failed to converge (status=1):\n",
      "STOP: TOTAL NO. of ITERATIONS REACHED LIMIT.\n",
      "\n",
      "Increase the number of iterations (max_iter) or scale the data as shown in:\n",
      "    https://scikit-learn.org/stable/modules/preprocessing.html\n",
      "Please also refer to the documentation for alternative solver options:\n",
      "    https://scikit-learn.org/stable/modules/linear_model.html#logistic-regression\n",
      "  n_iter_i = _check_optimize_result(\n",
      "c:\\users\\imane\\appdata\\local\\programs\\python\\python39\\lib\\site-packages\\sklearn\\linear_model\\_logistic.py:814: ConvergenceWarning: lbfgs failed to converge (status=1):\n",
      "STOP: TOTAL NO. of ITERATIONS REACHED LIMIT.\n",
      "\n",
      "Increase the number of iterations (max_iter) or scale the data as shown in:\n",
      "    https://scikit-learn.org/stable/modules/preprocessing.html\n",
      "Please also refer to the documentation for alternative solver options:\n",
      "    https://scikit-learn.org/stable/modules/linear_model.html#logistic-regression\n",
      "  n_iter_i = _check_optimize_result(\n",
      "c:\\users\\imane\\appdata\\local\\programs\\python\\python39\\lib\\site-packages\\sklearn\\linear_model\\_logistic.py:814: ConvergenceWarning: lbfgs failed to converge (status=1):\n",
      "STOP: TOTAL NO. of ITERATIONS REACHED LIMIT.\n",
      "\n",
      "Increase the number of iterations (max_iter) or scale the data as shown in:\n",
      "    https://scikit-learn.org/stable/modules/preprocessing.html\n",
      "Please also refer to the documentation for alternative solver options:\n",
      "    https://scikit-learn.org/stable/modules/linear_model.html#logistic-regression\n",
      "  n_iter_i = _check_optimize_result(\n",
      "c:\\users\\imane\\appdata\\local\\programs\\python\\python39\\lib\\site-packages\\sklearn\\linear_model\\_logistic.py:814: ConvergenceWarning: lbfgs failed to converge (status=1):\n",
      "STOP: TOTAL NO. of ITERATIONS REACHED LIMIT.\n",
      "\n",
      "Increase the number of iterations (max_iter) or scale the data as shown in:\n",
      "    https://scikit-learn.org/stable/modules/preprocessing.html\n",
      "Please also refer to the documentation for alternative solver options:\n",
      "    https://scikit-learn.org/stable/modules/linear_model.html#logistic-regression\n",
      "  n_iter_i = _check_optimize_result(\n",
      "c:\\users\\imane\\appdata\\local\\programs\\python\\python39\\lib\\site-packages\\sklearn\\linear_model\\_logistic.py:814: ConvergenceWarning: lbfgs failed to converge (status=1):\n",
      "STOP: TOTAL NO. of ITERATIONS REACHED LIMIT.\n",
      "\n",
      "Increase the number of iterations (max_iter) or scale the data as shown in:\n",
      "    https://scikit-learn.org/stable/modules/preprocessing.html\n",
      "Please also refer to the documentation for alternative solver options:\n",
      "    https://scikit-learn.org/stable/modules/linear_model.html#logistic-regression\n",
      "  n_iter_i = _check_optimize_result(\n",
      "c:\\users\\imane\\appdata\\local\\programs\\python\\python39\\lib\\site-packages\\sklearn\\linear_model\\_logistic.py:814: ConvergenceWarning: lbfgs failed to converge (status=1):\n",
      "STOP: TOTAL NO. of ITERATIONS REACHED LIMIT.\n",
      "\n",
      "Increase the number of iterations (max_iter) or scale the data as shown in:\n",
      "    https://scikit-learn.org/stable/modules/preprocessing.html\n",
      "Please also refer to the documentation for alternative solver options:\n",
      "    https://scikit-learn.org/stable/modules/linear_model.html#logistic-regression\n",
      "  n_iter_i = _check_optimize_result(\n",
      "c:\\users\\imane\\appdata\\local\\programs\\python\\python39\\lib\\site-packages\\sklearn\\model_selection\\_validation.py:372: FitFailedWarning: \n",
      "70 fits failed out of a total of 140.\n",
      "The score on these train-test partitions for these parameters will be set to nan.\n",
      "If these failures are not expected, you can try to debug them by setting error_score='raise'.\n",
      "\n",
      "Below are more details about the failures:\n",
      "--------------------------------------------------------------------------------\n",
      "70 fits failed with the following error:\n",
      "Traceback (most recent call last):\n",
      "  File \"c:\\users\\imane\\appdata\\local\\programs\\python\\python39\\lib\\site-packages\\sklearn\\model_selection\\_validation.py\", line 681, in _fit_and_score\n",
      "    estimator.fit(X_train, y_train, **fit_params)\n",
      "  File \"c:\\users\\imane\\appdata\\local\\programs\\python\\python39\\lib\\site-packages\\sklearn\\linear_model\\_logistic.py\", line 1461, in fit\n",
      "    solver = _check_solver(self.solver, self.penalty, self.dual)\n",
      "  File \"c:\\users\\imane\\appdata\\local\\programs\\python\\python39\\lib\\site-packages\\sklearn\\linear_model\\_logistic.py\", line 447, in _check_solver\n",
      "    raise ValueError(\n",
      "ValueError: Solver lbfgs supports only 'l2' or 'none' penalties, got l1 penalty.\n",
      "\n",
      "  warnings.warn(some_fits_failed_message, FitFailedWarning)\n",
      "c:\\users\\imane\\appdata\\local\\programs\\python\\python39\\lib\\site-packages\\sklearn\\model_selection\\_search.py:969: UserWarning: One or more of the test scores are non-finite: [       nan 0.50797546        nan 0.49142227        nan 0.48591202\n",
      "        nan 0.48346177        nan 0.4902252         nan 0.48162502\n",
      "        nan 0.47857624]\n",
      "  warnings.warn(\n"
     ]
    },
    {
     "name": "stderr",
     "output_type": "stream",
     "text": [
      "c:\\users\\imane\\appdata\\local\\programs\\python\\python39\\lib\\site-packages\\sklearn\\linear_model\\_logistic.py:814: ConvergenceWarning: lbfgs failed to converge (status=1):\n",
      "STOP: TOTAL NO. of ITERATIONS REACHED LIMIT.\n",
      "\n",
      "Increase the number of iterations (max_iter) or scale the data as shown in:\n",
      "    https://scikit-learn.org/stable/modules/preprocessing.html\n",
      "Please also refer to the documentation for alternative solver options:\n",
      "    https://scikit-learn.org/stable/modules/linear_model.html#logistic-regression\n",
      "  n_iter_i = _check_optimize_result(\n"
     ]
    },
    {
     "data": {
      "text/plain": [
       "GridSearchCV(cv=10, estimator=LogisticRegression(),\n",
       "             param_grid={'C': array([1.e-03, 1.e-02, 1.e-01, 1.e+00, 1.e+01, 1.e+02, 1.e+03]),\n",
       "                         'penalty': ['l1', 'l2']})"
      ]
     },
     "execution_count": 47,
     "metadata": {},
     "output_type": "execute_result"
    }
   ],
   "source": [
    "grid={\"C\":np.logspace(-3,3,7), \"penalty\":[\"l1\",\"l2\"]}# l1 lasso l2 ridge\n",
    "logreg = LogisticRegression()\n",
    "logreg_cv = GridSearchCV(logreg,grid,cv=10)\n",
    "logreg_cv.fit(X_train,y_train)"
   ]
  },
  {
   "cell_type": "markdown",
   "id": "b7161642",
   "metadata": {},
   "source": [
    "running the grid search to find best parameters for the base line model."
   ]
  },
  {
   "cell_type": "code",
   "execution_count": 48,
   "id": "8cfe43b4",
   "metadata": {},
   "outputs": [
    {
     "data": {
      "text/plain": [
       "{'C': 0.001, 'penalty': 'l2'}"
      ]
     },
     "execution_count": 48,
     "metadata": {},
     "output_type": "execute_result"
    }
   ],
   "source": [
    "# Get best parameters\n",
    "logreg_cv.best_params_"
   ]
  },
  {
   "cell_type": "code",
   "execution_count": 49,
   "id": "07a7c59c",
   "metadata": {},
   "outputs": [
    {
     "name": "stderr",
     "output_type": "stream",
     "text": [
      "c:\\users\\imane\\appdata\\local\\programs\\python\\python39\\lib\\site-packages\\sklearn\\linear_model\\_logistic.py:814: ConvergenceWarning: lbfgs failed to converge (status=1):\n",
      "STOP: TOTAL NO. of ITERATIONS REACHED LIMIT.\n",
      "\n",
      "Increase the number of iterations (max_iter) or scale the data as shown in:\n",
      "    https://scikit-learn.org/stable/modules/preprocessing.html\n",
      "Please also refer to the documentation for alternative solver options:\n",
      "    https://scikit-learn.org/stable/modules/linear_model.html#logistic-regression\n",
      "  n_iter_i = _check_optimize_result(\n"
     ]
    },
    {
     "data": {
      "text/plain": [
       "LogisticRegression(C=0.001)"
      ]
     },
     "execution_count": 49,
     "metadata": {},
     "output_type": "execute_result"
    }
   ],
   "source": [
    "# Fit the data\n",
    "lr = LogisticRegression(C= 0.001, penalty='l2')\n",
    "lr.fit(X_train, y_train)"
   ]
  },
  {
   "cell_type": "code",
   "execution_count": 50,
   "id": "78ff7ca4",
   "metadata": {},
   "outputs": [
    {
     "data": {
      "text/plain": [
       "0.5594362745098039"
      ]
     },
     "execution_count": 50,
     "metadata": {},
     "output_type": "execute_result"
    }
   ],
   "source": [
    "# accuracy on training\n",
    "lr.score(X_train, y_train)"
   ]
  },
  {
   "cell_type": "code",
   "execution_count": 51,
   "id": "291a568d",
   "metadata": {},
   "outputs": [],
   "source": [
    "lr_pred = lr.predict(X_test)"
   ]
  },
  {
   "cell_type": "code",
   "execution_count": 52,
   "id": "b0aefc8f",
   "metadata": {},
   "outputs": [
    {
     "data": {
      "text/plain": [
       "0.5061124694376528"
      ]
     },
     "execution_count": 52,
     "metadata": {},
     "output_type": "execute_result"
    }
   ],
   "source": [
    "# Accuracy on test set\n",
    "acc_lr = lr.score(X_test, y_test)\n",
    "acc_lr"
   ]
  },
  {
   "cell_type": "code",
   "execution_count": 53,
   "id": "e02a9563",
   "metadata": {},
   "outputs": [
    {
     "data": {
      "text/plain": [
       "0.61003861003861"
      ]
     },
     "execution_count": 53,
     "metadata": {},
     "output_type": "execute_result"
    }
   ],
   "source": [
    "f1_lr = f1_score(y_test, lr_pred)\n",
    "f1_lr"
   ]
  },
  {
   "cell_type": "code",
   "execution_count": 54,
   "id": "aad09976",
   "metadata": {},
   "outputs": [
    {
     "name": "stdout",
     "output_type": "stream",
     "text": [
      "              precision    recall  f1-score   support\n",
      "\n",
      "           0       0.46      0.25      0.33       193\n",
      "           1       0.52      0.73      0.61       216\n",
      "\n",
      "    accuracy                           0.51       409\n",
      "   macro avg       0.49      0.49      0.47       409\n",
      "weighted avg       0.49      0.51      0.48       409\n",
      "\n"
     ]
    }
   ],
   "source": [
    "cr_lr = classification_report(y_test,lr_pred )\n",
    "print(cr_lr)"
   ]
  },
  {
   "cell_type": "markdown",
   "id": "67d9c02b",
   "metadata": {},
   "source": [
    "The classification report shows a higher than average job done on real pictures, although the precision and recall are better for real picrures, the classifier can make some correct predictions of fake pictures.\n"
   ]
  },
  {
   "cell_type": "code",
   "execution_count": 55,
   "id": "1348e007",
   "metadata": {},
   "outputs": [
    {
     "data": {
      "image/png": "[encoded data removed]",
      "text/plain": [
       "<Figure size 576x576 with 1 Axes>"
      ]
     },
     "metadata": {
      "needs_background": "light"
     },
     "output_type": "display_data"
    }
   ],
   "source": [
    "cm_lr = confusion_matrix(y_test,lr_pred)\n",
    "fig, ax = plt.subplots(figsize=(8, 8))\n",
    "ax.imshow(cm_lr)\n",
    "ax.grid(False)# defining parameter range\n",
    "ax.xaxis.set(ticks=(0, 1), ticklabels=('Predicted 0s', 'Predicted 1s'))\n",
    "ax.yaxis.set(ticks=(0, 1), ticklabels=('Actual 0s', 'Actual 1s'))\n",
    "ax.set_ylim(1.5, -0.5)\n",
    "for i in range(2):\n",
    "    for j in range(2):\n",
    "        ax.text(j, i, cm_lr[i, j], ha='center', va='center', color='red')"
   ]
  },
  {
   "cell_type": "markdown",
   "id": "42273659",
   "metadata": {},
   "source": [
    "The model has done a fairly better job at detecting real pictures than detecting fake ones.\n"
   ]
  },
  {
   "cell_type": "markdown",
   "id": "e2325a2d",
   "metadata": {},
   "source": [
    "## Naive Bayes Classifier"
   ]
  },
  {
   "cell_type": "code",
   "execution_count": 56,
   "id": "408ed27e",
   "metadata": {},
   "outputs": [
    {
     "name": "stdout",
     "output_type": "stream",
     "text": [
      "Fitting 5 folds for each of 100 candidates, totalling 500 fits\n"
     ]
    },
    {
     "data": {
      "text/plain": [
       "{'var_smoothing': 0.15199110829529336}"
      ]
     },
     "execution_count": 56,
     "metadata": {},
     "output_type": "execute_result"
    }
   ],
   "source": [
    "nb_classifier = GaussianNB()\n",
    "\n",
    "params_NB = {'var_smoothing': np.logspace(0,-9, num=100)}\n",
    "gs_NB = GridSearchCV(estimator=nb_classifier, \n",
    "                 param_grid=params_NB, \n",
    "                 verbose=1, \n",
    "                 scoring='accuracy') \n",
    "gs_NB.fit(X_train, y_train)\n",
    "\n",
    "gs_NB.best_params_"
   ]
  },
  {
   "cell_type": "markdown",
   "id": "2cc46a64",
   "metadata": {},
   "source": [
    "Performing a quick grid search to determine best params."
   ]
  },
  {
   "cell_type": "code",
   "execution_count": 86,
   "id": "1ac74ecc",
   "metadata": {},
   "outputs": [
    {
     "data": {
      "text/plain": [
       "0.5502450980392157"
      ]
     },
     "execution_count": 86,
     "metadata": {},
     "output_type": "execute_result"
    }
   ],
   "source": [
    "nb = GaussianNB(var_smoothing= 0.15)\n",
    "nb.fit(X_train, y_train)\n",
    "nb.score(X_train, y_train)"
   ]
  },
  {
   "cell_type": "code",
   "execution_count": 87,
   "id": "16c51a4e",
   "metadata": {},
   "outputs": [],
   "source": [
    "nb_pred = nb.predict(X_test)"
   ]
  },
  {
   "cell_type": "code",
   "execution_count": 88,
   "id": "d98e4f80",
   "metadata": {},
   "outputs": [
    {
     "data": {
      "text/plain": [
       "0.5281173594132029"
      ]
     },
     "execution_count": 88,
     "metadata": {},
     "output_type": "execute_result"
    }
   ],
   "source": [
    "acc_nb = nb.score(X_test, y_test)\n",
    "acc_nb"
   ]
  },
  {
   "cell_type": "code",
   "execution_count": 89,
   "id": "ba233973",
   "metadata": {},
   "outputs": [
    {
     "data": {
      "text/plain": [
       "0.5720620842572062"
      ]
     },
     "execution_count": 89,
     "metadata": {},
     "output_type": "execute_result"
    }
   ],
   "source": [
    "f1_nb = f1_score(y_test, nb_pred)\n",
    "f1_nb"
   ]
  },
  {
   "cell_type": "code",
   "execution_count": 90,
   "id": "93de36e4",
   "metadata": {},
   "outputs": [
    {
     "name": "stdout",
     "output_type": "stream",
     "text": [
      "              precision    recall  f1-score   support\n",
      "\n",
      "           0       0.50      0.45      0.47       193\n",
      "           1       0.55      0.60      0.57       216\n",
      "\n",
      "    accuracy                           0.53       409\n",
      "   macro avg       0.52      0.52      0.52       409\n",
      "weighted avg       0.53      0.53      0.53       409\n",
      "\n"
     ]
    }
   ],
   "source": [
    "cr_nb = classification_report(y_test,nb_pred )\n",
    "print(cr_nb)"
   ]
  },
  {
   "cell_type": "markdown",
   "id": "e9c44e25",
   "metadata": {},
   "source": [
    "The results of Naive Bayes are more balances then those of Logistic regression, although the accuracy droped a bit with NB, its F1 score, ie average of precision and recall, have balances out."
   ]
  },
  {
   "cell_type": "code",
   "execution_count": 62,
   "id": "8d60a12b",
   "metadata": {},
   "outputs": [
    {
     "data": {
      "image/png": "[encoded data removed]",
      "text/plain": [
       "<Figure size 576x576 with 1 Axes>"
      ]
     },
     "metadata": {
      "needs_background": "light"
     },
     "output_type": "display_data"
    }
   ],
   "source": [
    "cm_nb = confusion_matrix(y_test,nb_pred)\n",
    "fig, ax = plt.subplots(figsize=(8, 8))\n",
    "ax.imshow(cm_nb)\n",
    "ax.grid(False)\n",
    "ax.xaxis.set(ticks=(0, 1), ticklabels=('Predicted 0s', 'Predicted 1s'))\n",
    "ax.yaxis.set(ticks=(0, 1), ticklabels=('Actual 0s', 'Actual 1s'))\n",
    "ax.set_ylim(1.5, -0.5)\n",
    "for i in range(2):\n",
    "    for j in range(2):\n",
    "        ax.text(j, i, cm_nb[i, j], ha='center', va='center', color='red')"
   ]
  },
  {
   "cell_type": "markdown",
   "id": "f24d0506",
   "metadata": {},
   "source": [
    "The confusion matrix shows slightly better performance on detecting real photos then fake one."
   ]
  },
  {
   "cell_type": "markdown",
   "id": "b6ec43f2",
   "metadata": {},
   "source": [
    "## Support Vector Machines"
   ]
  },
  {
   "cell_type": "code",
   "execution_count": 63,
   "id": "51c665bf",
   "metadata": {
    "scrolled": true
   },
   "outputs": [
    {
     "name": "stdout",
     "output_type": "stream",
     "text": [
      "Fitting 5 folds for each of 25 candidates, totalling 125 fits\n",
      "[CV 1/5] END ........C=0.1, gamma=1, kernel=rbf;, score=0.529 total time=   0.7s\n",
      "[CV 2/5] END ........C=0.1, gamma=1, kernel=rbf;, score=0.529 total time=   0.6s\n",
      "[CV 3/5] END ........C=0.1, gamma=1, kernel=rbf;, score=0.531 total time=   0.6s\n",
      "[CV 4/5] END ........C=0.1, gamma=1, kernel=rbf;, score=0.531 total time=   0.6s\n",
      "[CV 5/5] END ........C=0.1, gamma=1, kernel=rbf;, score=0.531 total time=   0.6s\n",
      "[CV 1/5] END ......C=0.1, gamma=0.1, kernel=rbf;, score=0.529 total time=   0.6s\n",
      "[CV 2/5] END ......C=0.1, gamma=0.1, kernel=rbf;, score=0.529 total time=   0.6s\n",
      "[CV 3/5] END ......C=0.1, gamma=0.1, kernel=rbf;, score=0.531 total time=   0.6s\n",
      "[CV 4/5] END ......C=0.1, gamma=0.1, kernel=rbf;, score=0.531 total time=   0.6s\n",
      "[CV 5/5] END ......C=0.1, gamma=0.1, kernel=rbf;, score=0.531 total time=   0.5s\n",
      "[CV 1/5] END .....C=0.1, gamma=0.01, kernel=rbf;, score=0.529 total time=   0.4s\n",
      "[CV 2/5] END .....C=0.1, gamma=0.01, kernel=rbf;, score=0.529 total time=   0.6s\n",
      "[CV 3/5] END .....C=0.1, gamma=0.01, kernel=rbf;, score=0.531 total time=   0.9s\n",
      "[CV 4/5] END .....C=0.1, gamma=0.01, kernel=rbf;, score=0.531 total time=   0.8s\n",
      "[CV 5/5] END .....C=0.1, gamma=0.01, kernel=rbf;, score=0.531 total time=   0.7s\n",
      "[CV 1/5] END ....C=0.1, gamma=0.001, kernel=rbf;, score=0.529 total time=   0.8s\n",
      "[CV 2/5] END ....C=0.1, gamma=0.001, kernel=rbf;, score=0.529 total time=   0.7s\n",
      "[CV 3/5] END ....C=0.1, gamma=0.001, kernel=rbf;, score=0.531 total time=   0.7s\n",
      "[CV 4/5] END ....C=0.1, gamma=0.001, kernel=rbf;, score=0.531 total time=   0.5s\n",
      "[CV 5/5] END ....C=0.1, gamma=0.001, kernel=rbf;, score=0.531 total time=   0.5s\n",
      "[CV 1/5] END ...C=0.1, gamma=0.0001, kernel=rbf;, score=0.529 total time=   0.6s\n",
      "[CV 2/5] END ...C=0.1, gamma=0.0001, kernel=rbf;, score=0.529 total time=   0.5s\n",
      "[CV 3/5] END ...C=0.1, gamma=0.0001, kernel=rbf;, score=0.531 total time=   0.7s\n",
      "[CV 4/5] END ...C=0.1, gamma=0.0001, kernel=rbf;, score=0.531 total time=   0.5s\n",
      "[CV 5/5] END ...C=0.1, gamma=0.0001, kernel=rbf;, score=0.531 total time=   0.5s\n",
      "[CV 1/5] END ..........C=1, gamma=1, kernel=rbf;, score=0.529 total time=   0.6s\n",
      "[CV 2/5] END ..........C=1, gamma=1, kernel=rbf;, score=0.529 total time=   0.5s\n",
      "[CV 3/5] END ..........C=1, gamma=1, kernel=rbf;, score=0.531 total time=   0.5s\n",
      "[CV 4/5] END ..........C=1, gamma=1, kernel=rbf;, score=0.531 total time=   0.6s\n",
      "[CV 5/5] END ..........C=1, gamma=1, kernel=rbf;, score=0.531 total time=   0.5s\n",
      "[CV 1/5] END ........C=1, gamma=0.1, kernel=rbf;, score=0.529 total time=   0.6s\n",
      "[CV 2/5] END ........C=1, gamma=0.1, kernel=rbf;, score=0.529 total time=   0.5s\n",
      "[CV 3/5] END ........C=1, gamma=0.1, kernel=rbf;, score=0.531 total time=   0.6s\n",
      "[CV 4/5] END ........C=1, gamma=0.1, kernel=rbf;, score=0.531 total time=   0.6s\n",
      "[CV 5/5] END ........C=1, gamma=0.1, kernel=rbf;, score=0.528 total time=   0.6s\n",
      "[CV 1/5] END .......C=1, gamma=0.01, kernel=rbf;, score=0.529 total time=   0.5s\n",
      "[CV 2/5] END .......C=1, gamma=0.01, kernel=rbf;, score=0.529 total time=   0.4s\n",
      "[CV 3/5] END .......C=1, gamma=0.01, kernel=rbf;, score=0.512 total time=   0.5s\n",
      "[CV 4/5] END .......C=1, gamma=0.01, kernel=rbf;, score=0.518 total time=   0.5s\n",
      "[CV 5/5] END .......C=1, gamma=0.01, kernel=rbf;, score=0.531 total time=   0.4s\n",
      "[CV 1/5] END ......C=1, gamma=0.001, kernel=rbf;, score=0.520 total time=   0.4s\n",
      "[CV 2/5] END ......C=1, gamma=0.001, kernel=rbf;, score=0.508 total time=   0.4s\n",
      "[CV 3/5] END ......C=1, gamma=0.001, kernel=rbf;, score=0.555 total time=   0.4s\n",
      "[CV 4/5] END ......C=1, gamma=0.001, kernel=rbf;, score=0.537 total time=   0.4s\n",
      "[CV 5/5] END ......C=1, gamma=0.001, kernel=rbf;, score=0.488 total time=   0.4s\n",
      "[CV 1/5] END .....C=1, gamma=0.0001, kernel=rbf;, score=0.514 total time=   0.4s\n",
      "[CV 2/5] END .....C=1, gamma=0.0001, kernel=rbf;, score=0.523 total time=   0.3s\n",
      "[CV 3/5] END .....C=1, gamma=0.0001, kernel=rbf;, score=0.561 total time=   0.4s\n",
      "[CV 4/5] END .....C=1, gamma=0.0001, kernel=rbf;, score=0.555 total time=   0.4s\n",
      "[CV 5/5] END .....C=1, gamma=0.0001, kernel=rbf;, score=0.561 total time=   0.4s\n",
      "[CV 1/5] END .........C=10, gamma=1, kernel=rbf;, score=0.529 total time=   0.6s\n",
      "[CV 2/5] END .........C=10, gamma=1, kernel=rbf;, score=0.529 total time=   0.6s\n",
      "[CV 3/5] END .........C=10, gamma=1, kernel=rbf;, score=0.531 total time=   0.6s\n",
      "[CV 4/5] END .........C=10, gamma=1, kernel=rbf;, score=0.531 total time=   0.5s\n",
      "[CV 5/5] END .........C=10, gamma=1, kernel=rbf;, score=0.531 total time=   0.5s\n",
      "[CV 1/5] END .......C=10, gamma=0.1, kernel=rbf;, score=0.529 total time=   0.5s\n",
      "[CV 2/5] END .......C=10, gamma=0.1, kernel=rbf;, score=0.529 total time=   0.5s\n",
      "[CV 3/5] END .......C=10, gamma=0.1, kernel=rbf;, score=0.531 total time=   0.6s\n",
      "[CV 4/5] END .......C=10, gamma=0.1, kernel=rbf;, score=0.531 total time=   0.6s\n",
      "[CV 5/5] END .......C=10, gamma=0.1, kernel=rbf;, score=0.528 total time=   0.5s\n",
      "[CV 1/5] END ......C=10, gamma=0.01, kernel=rbf;, score=0.532 total time=   0.5s\n",
      "[CV 2/5] END ......C=10, gamma=0.01, kernel=rbf;, score=0.526 total time=   0.6s\n",
      "[CV 3/5] END ......C=10, gamma=0.01, kernel=rbf;, score=0.525 total time=   0.7s\n",
      "[CV 4/5] END ......C=10, gamma=0.01, kernel=rbf;, score=0.506 total time=   0.6s\n",
      "[CV 5/5] END ......C=10, gamma=0.01, kernel=rbf;, score=0.528 total time=   0.6s\n",
      "[CV 1/5] END .....C=10, gamma=0.001, kernel=rbf;, score=0.502 total time=   0.7s\n",
      "[CV 2/5] END .....C=10, gamma=0.001, kernel=rbf;, score=0.508 total time=   0.7s\n",
      "[CV 3/5] END .....C=10, gamma=0.001, kernel=rbf;, score=0.488 total time=   0.7s\n",
      "[CV 4/5] END .....C=10, gamma=0.001, kernel=rbf;, score=0.518 total time=   0.5s\n",
      "[CV 5/5] END .....C=10, gamma=0.001, kernel=rbf;, score=0.497 total time=   0.5s\n",
      "[CV 1/5] END ....C=10, gamma=0.0001, kernel=rbf;, score=0.529 total time=   0.4s\n",
      "[CV 2/5] END ....C=10, gamma=0.0001, kernel=rbf;, score=0.505 total time=   0.5s\n",
      "[CV 3/5] END ....C=10, gamma=0.0001, kernel=rbf;, score=0.546 total time=   0.4s\n",
      "[CV 4/5] END ....C=10, gamma=0.0001, kernel=rbf;, score=0.549 total time=   0.5s\n",
      "[CV 5/5] END ....C=10, gamma=0.0001, kernel=rbf;, score=0.515 total time=   0.4s\n",
      "[CV 1/5] END ........C=100, gamma=1, kernel=rbf;, score=0.529 total time=   0.6s\n",
      "[CV 2/5] END ........C=100, gamma=1, kernel=rbf;, score=0.529 total time=   0.5s\n",
      "[CV 3/5] END ........C=100, gamma=1, kernel=rbf;, score=0.531 total time=   0.5s\n",
      "[CV 4/5] END ........C=100, gamma=1, kernel=rbf;, score=0.531 total time=   0.6s\n",
      "[CV 5/5] END ........C=100, gamma=1, kernel=rbf;, score=0.531 total time=   0.5s\n",
      "[CV 1/5] END ......C=100, gamma=0.1, kernel=rbf;, score=0.529 total time=   0.7s\n",
      "[CV 2/5] END ......C=100, gamma=0.1, kernel=rbf;, score=0.529 total time=   0.7s\n",
      "[CV 3/5] END ......C=100, gamma=0.1, kernel=rbf;, score=0.531 total time=   0.6s\n",
      "[CV 4/5] END ......C=100, gamma=0.1, kernel=rbf;, score=0.531 total time=   0.5s\n",
      "[CV 5/5] END ......C=100, gamma=0.1, kernel=rbf;, score=0.528 total time=   0.8s\n",
      "[CV 1/5] END .....C=100, gamma=0.01, kernel=rbf;, score=0.532 total time=   0.6s\n",
      "[CV 2/5] END .....C=100, gamma=0.01, kernel=rbf;, score=0.526 total time=   0.6s\n",
      "[CV 3/5] END .....C=100, gamma=0.01, kernel=rbf;, score=0.525 total time=   0.5s\n",
      "[CV 4/5] END .....C=100, gamma=0.01, kernel=rbf;, score=0.506 total time=   0.4s\n",
      "[CV 5/5] END .....C=100, gamma=0.01, kernel=rbf;, score=0.528 total time=   0.5s\n",
      "[CV 1/5] END ....C=100, gamma=0.001, kernel=rbf;, score=0.505 total time=   0.5s\n",
      "[CV 2/5] END ....C=100, gamma=0.001, kernel=rbf;, score=0.486 total time=   0.4s\n",
      "[CV 3/5] END ....C=100, gamma=0.001, kernel=rbf;, score=0.488 total time=   0.4s\n",
      "[CV 4/5] END ....C=100, gamma=0.001, kernel=rbf;, score=0.497 total time=   0.4s\n",
      "[CV 5/5] END ....C=100, gamma=0.001, kernel=rbf;, score=0.488 total time=   0.4s\n",
      "[CV 1/5] END ...C=100, gamma=0.0001, kernel=rbf;, score=0.468 total time=   0.5s\n",
      "[CV 2/5] END ...C=100, gamma=0.0001, kernel=rbf;, score=0.483 total time=   0.8s\n",
      "[CV 3/5] END ...C=100, gamma=0.0001, kernel=rbf;, score=0.528 total time=   0.8s\n",
      "[CV 4/5] END ...C=100, gamma=0.0001, kernel=rbf;, score=0.567 total time=   0.7s\n",
      "[CV 5/5] END ...C=100, gamma=0.0001, kernel=rbf;, score=0.500 total time=   0.5s\n",
      "[CV 1/5] END .......C=1000, gamma=1, kernel=rbf;, score=0.529 total time=   0.5s\n"
     ]
    },
    {
     "name": "stdout",
     "output_type": "stream",
     "text": [
      "[CV 2/5] END .......C=1000, gamma=1, kernel=rbf;, score=0.529 total time=   0.5s\n",
      "[CV 3/5] END .......C=1000, gamma=1, kernel=rbf;, score=0.531 total time=   0.5s\n",
      "[CV 4/5] END .......C=1000, gamma=1, kernel=rbf;, score=0.531 total time=   0.5s\n",
      "[CV 5/5] END .......C=1000, gamma=1, kernel=rbf;, score=0.531 total time=   0.5s\n",
      "[CV 1/5] END .....C=1000, gamma=0.1, kernel=rbf;, score=0.529 total time=   0.5s\n",
      "[CV 2/5] END .....C=1000, gamma=0.1, kernel=rbf;, score=0.529 total time=   0.5s\n",
      "[CV 3/5] END .....C=1000, gamma=0.1, kernel=rbf;, score=0.531 total time=   0.5s\n",
      "[CV 4/5] END .....C=1000, gamma=0.1, kernel=rbf;, score=0.531 total time=   0.5s\n",
      "[CV 5/5] END .....C=1000, gamma=0.1, kernel=rbf;, score=0.528 total time=   0.6s\n",
      "[CV 1/5] END ....C=1000, gamma=0.01, kernel=rbf;, score=0.532 total time=   0.5s\n",
      "[CV 2/5] END ....C=1000, gamma=0.01, kernel=rbf;, score=0.526 total time=   0.6s\n",
      "[CV 3/5] END ....C=1000, gamma=0.01, kernel=rbf;, score=0.525 total time=   0.5s\n",
      "[CV 4/5] END ....C=1000, gamma=0.01, kernel=rbf;, score=0.506 total time=   0.4s\n",
      "[CV 5/5] END ....C=1000, gamma=0.01, kernel=rbf;, score=0.528 total time=   0.4s\n",
      "[CV 1/5] END ...C=1000, gamma=0.001, kernel=rbf;, score=0.505 total time=   0.4s\n",
      "[CV 2/5] END ...C=1000, gamma=0.001, kernel=rbf;, score=0.489 total time=   0.4s\n",
      "[CV 3/5] END ...C=1000, gamma=0.001, kernel=rbf;, score=0.491 total time=   0.4s\n",
      "[CV 4/5] END ...C=1000, gamma=0.001, kernel=rbf;, score=0.497 total time=   0.5s\n",
      "[CV 5/5] END ...C=1000, gamma=0.001, kernel=rbf;, score=0.488 total time=   0.4s\n",
      "[CV 1/5] END ..C=1000, gamma=0.0001, kernel=rbf;, score=0.462 total time=   0.8s\n",
      "[CV 2/5] END ..C=1000, gamma=0.0001, kernel=rbf;, score=0.483 total time=   1.2s\n",
      "[CV 3/5] END ..C=1000, gamma=0.0001, kernel=rbf;, score=0.512 total time=   0.8s\n",
      "[CV 4/5] END ..C=1000, gamma=0.0001, kernel=rbf;, score=0.549 total time=   0.9s\n",
      "[CV 5/5] END ..C=1000, gamma=0.0001, kernel=rbf;, score=0.488 total time=   0.8s\n"
     ]
    },
    {
     "data": {
      "text/plain": [
       "GridSearchCV(estimator=SVC(),\n",
       "             param_grid={'C': [0.1, 1, 10, 100, 1000],\n",
       "                         'gamma': [1, 0.1, 0.01, 0.001, 0.0001],\n",
       "                         'kernel': ['rbf']},\n",
       "             verbose=3)"
      ]
     },
     "execution_count": 63,
     "metadata": {},
     "output_type": "execute_result"
    }
   ],
   "source": [
    "# defining parameter range\n",
    "param_grid = {'C': [0.1, 1, 10, 100, 1000],\n",
    "              'gamma': [1, 0.1, 0.01, 0.001, 0.0001],\n",
    "              'kernel': ['rbf']}\n",
    " \n",
    "grid = GridSearchCV(SVC(), param_grid, refit = True, verbose = 3)\n",
    " \n",
    "# fitting the model for grid search\n",
    "grid.fit(X_train, y_train)"
   ]
  },
  {
   "cell_type": "markdown",
   "id": "2249578a",
   "metadata": {},
   "source": [
    "Here I ran a grid serch for the parameters"
   ]
  },
  {
   "cell_type": "code",
   "execution_count": 64,
   "id": "632dc285",
   "metadata": {},
   "outputs": [
    {
     "data": {
      "text/plain": [
       "{'C': 1, 'gamma': 0.0001, 'kernel': 'rbf'}"
      ]
     },
     "execution_count": 64,
     "metadata": {},
     "output_type": "execute_result"
    }
   ],
   "source": [
    "grid.best_params_"
   ]
  },
  {
   "cell_type": "code",
   "execution_count": 65,
   "id": "a3ef85cf",
   "metadata": {},
   "outputs": [],
   "source": [
    "svc = SVC(C= 10, gamma = 0.0001, kernel= 'rbf')"
   ]
  },
  {
   "cell_type": "code",
   "execution_count": 66,
   "id": "a51f198e",
   "metadata": {},
   "outputs": [
    {
     "data": {
      "text/plain": [
       "SVC(C=10, gamma=0.0001)"
      ]
     },
     "execution_count": 66,
     "metadata": {},
     "output_type": "execute_result"
    }
   ],
   "source": [
    "svc.fit(X_train, y_train)"
   ]
  },
  {
   "cell_type": "code",
   "execution_count": 67,
   "id": "ed326c66",
   "metadata": {},
   "outputs": [
    {
     "data": {
      "text/plain": [
       "0.7083333333333334"
      ]
     },
     "execution_count": 67,
     "metadata": {},
     "output_type": "execute_result"
    }
   ],
   "source": [
    "svc.score(X_train, y_train)"
   ]
  },
  {
   "cell_type": "code",
   "execution_count": 68,
   "id": "f140d090",
   "metadata": {},
   "outputs": [],
   "source": [
    "svc_pred = svc.predict(X_test)"
   ]
  },
  {
   "cell_type": "code",
   "execution_count": 69,
   "id": "51f03c8d",
   "metadata": {},
   "outputs": [
    {
     "data": {
      "text/plain": [
       "0.58679706601467"
      ]
     },
     "execution_count": 69,
     "metadata": {},
     "output_type": "execute_result"
    }
   ],
   "source": [
    "acc_svc = svc.score(X_test, y_test)\n",
    "acc_svc"
   ]
  },
  {
   "cell_type": "code",
   "execution_count": 70,
   "id": "cfca4ad7",
   "metadata": {},
   "outputs": [
    {
     "data": {
      "text/plain": [
       "0.6442105263157895"
      ]
     },
     "execution_count": 70,
     "metadata": {},
     "output_type": "execute_result"
    }
   ],
   "source": [
    "f1_svc = f1_score(y_test, svc_pred)\n",
    "f1_svc"
   ]
  },
  {
   "cell_type": "code",
   "execution_count": 71,
   "id": "818edd82",
   "metadata": {},
   "outputs": [
    {
     "name": "stdout",
     "output_type": "stream",
     "text": [
      "              precision    recall  f1-score   support\n",
      "\n",
      "           0       0.58      0.45      0.51       193\n",
      "           1       0.59      0.71      0.64       216\n",
      "\n",
      "    accuracy                           0.59       409\n",
      "   macro avg       0.59      0.58      0.58       409\n",
      "weighted avg       0.59      0.59      0.58       409\n",
      "\n"
     ]
    }
   ],
   "source": [
    "cr_svc = classification_report(y_test,svc_pred )\n",
    "print(cr_svc)"
   ]
  },
  {
   "cell_type": "markdown",
   "id": "dd43914b",
   "metadata": {},
   "source": [
    "The performance of SVC is higher than the baseline model for both fake and real pictures, the precision is almost the same for both classes but recall is better for real photos"
   ]
  },
  {
   "cell_type": "code",
   "execution_count": 72,
   "id": "59860ce4",
   "metadata": {},
   "outputs": [
    {
     "data": {
      "image/png": "[encoded data removed]",
      "text/plain": [
       "<Figure size 576x576 with 1 Axes>"
      ]
     },
     "metadata": {
      "needs_background": "light"
     },
     "output_type": "display_data"
    }
   ],
   "source": [
    "cm_svc = confusion_matrix(y_test,svc_pred)\n",
    "fig, ax = plt.subplots(figsize=(8, 8))\n",
    "ax.imshow(cm_svc)\n",
    "ax.grid(False)\n",
    "ax.xaxis.set(ticks=(0, 1), ticklabels=('Predicted 0s', 'Predicted 1s'))\n",
    "ax.yaxis.set(ticks=(0, 1), ticklabels=('Actual 0s', 'Actual 1s'))\n",
    "ax.set_ylim(1.5, -0.5)\n",
    "for i in range(2):\n",
    "    for j in range(2):\n",
    "        ax.text(j, i, cm_svc[i, j], ha='center', va='center', color='red')"
   ]
  },
  {
   "cell_type": "markdown",
   "id": "6fa8e34d",
   "metadata": {},
   "source": [
    "The Classification report shows more correct guesses than wrong one for both classes, which is a step up from only being able to detect real photos like the models before did."
   ]
  },
  {
   "cell_type": "markdown",
   "id": "d787f2ba",
   "metadata": {},
   "source": [
    "## XGBoost"
   ]
  },
  {
   "cell_type": "code",
   "execution_count": 73,
   "id": "59376565",
   "metadata": {},
   "outputs": [],
   "source": [
    "xgb = XGBClassifier(learning_rate=0.02, n_estimators=600, objective='binary:logistic',\n",
    "                    silent=True, nthread=1)"
   ]
  },
  {
   "cell_type": "code",
   "execution_count": 74,
   "id": "57febaf0",
   "metadata": {},
   "outputs": [
    {
     "name": "stderr",
     "output_type": "stream",
     "text": [
      "c:\\users\\imane\\appdata\\local\\programs\\python\\python39\\lib\\site-packages\\xgboost\\sklearn.py:1224: UserWarning: The use of label encoder in XGBClassifier is deprecated and will be removed in a future release. To remove this warning, do the following: 1) Pass option use_label_encoder=False when constructing XGBClassifier object; and 2) Encode your labels (y) as integers starting with 0, i.e. 0, 1, 2, ..., [num_class - 1].\n",
      "  warnings.warn(label_encoder_deprecation_msg, UserWarning)\n",
      "c:\\users\\imane\\appdata\\local\\programs\\python\\python39\\lib\\site-packages\\xgboost\\data.py:262: FutureWarning: pandas.Int64Index is deprecated and will be removed from pandas in a future version. Use pandas.Index with the appropriate dtype instead.\n",
      "  elif isinstance(data.columns, (pd.Int64Index, pd.RangeIndex)):\n"
     ]
    },
    {
     "name": "stdout",
     "output_type": "stream",
     "text": [
      "[21:53:09] WARNING: C:/Users/Administrator/workspace/xgboost-win64_release_1.5.1/src/learner.cc:576: \n",
      "Parameters: { \"silent\" } might not be used.\n",
      "\n",
      "  This could be a false alarm, with some parameters getting used by language bindings but\n",
      "  then being mistakenly passed down to XGBoost core, or some parameter actually being used\n",
      "  but getting flagged wrongly here. Please open an issue if you find any such cases.\n",
      "\n",
      "\n",
      "[21:53:09] WARNING: C:/Users/Administrator/workspace/xgboost-win64_release_1.5.1/src/learner.cc:1115: Starting in XGBoost 1.3.0, the default evaluation metric used with the objective 'binary:logistic' was changed from 'error' to 'logloss'. Explicitly set eval_metric if you'd like to restore the old behavior.\n"
     ]
    },
    {
     "data": {
      "text/plain": [
       "XGBClassifier(base_score=0.5, booster='gbtree', colsample_bylevel=1,\n",
       "              colsample_bynode=1, colsample_bytree=1, enable_categorical=False,\n",
       "              gamma=0, gpu_id=-1, importance_type=None,\n",
       "              interaction_constraints='', learning_rate=0.02, max_delta_step=0,\n",
       "              max_depth=6, min_child_weight=1, missing=nan,\n",
       "              monotone_constraints='()', n_estimators=600, n_jobs=1, nthread=1,\n",
       "              num_parallel_tree=1, predictor='auto', random_state=0,\n",
       "              reg_alpha=0, reg_lambda=1, scale_pos_weight=1, silent=True,\n",
       "              subsample=1, tree_method='exact', validate_parameters=1,\n",
       "              verbosity=None)"
      ]
     },
     "execution_count": 74,
     "metadata": {},
     "output_type": "execute_result"
    }
   ],
   "source": [
    "xgb.fit(X_train, y_train)"
   ]
  },
  {
   "cell_type": "code",
   "execution_count": 75,
   "id": "a0ef4b6e",
   "metadata": {},
   "outputs": [
    {
     "data": {
      "text/plain": [
       "0.9993872549019608"
      ]
     },
     "execution_count": 75,
     "metadata": {},
     "output_type": "execute_result"
    }
   ],
   "source": [
    "xgb.score(X_train, y_train)"
   ]
  },
  {
   "cell_type": "code",
   "execution_count": 76,
   "id": "a23f85e8",
   "metadata": {},
   "outputs": [
    {
     "name": "stderr",
     "output_type": "stream",
     "text": [
      "c:\\users\\imane\\appdata\\local\\programs\\python\\python39\\lib\\site-packages\\xgboost\\data.py:262: FutureWarning: pandas.Int64Index is deprecated and will be removed from pandas in a future version. Use pandas.Index with the appropriate dtype instead.\n",
      "  elif isinstance(data.columns, (pd.Int64Index, pd.RangeIndex)):\n"
     ]
    }
   ],
   "source": [
    "xgb_pred = xgb.predict(X_test)"
   ]
  },
  {
   "cell_type": "code",
   "execution_count": 77,
   "id": "394d1d99",
   "metadata": {},
   "outputs": [],
   "source": [
    "acc_xgb = xgb.score(X_test, y_test)"
   ]
  },
  {
   "cell_type": "code",
   "execution_count": 78,
   "id": "0292c8bb",
   "metadata": {},
   "outputs": [
    {
     "data": {
      "text/plain": [
       "0.5887445887445888"
      ]
     },
     "execution_count": 78,
     "metadata": {},
     "output_type": "execute_result"
    }
   ],
   "source": [
    "f1_xgb = f1_score(y_test, xgb_pred)\n",
    "f1_xgb"
   ]
  },
  {
   "cell_type": "code",
   "execution_count": 79,
   "id": "cc7b047b",
   "metadata": {},
   "outputs": [
    {
     "name": "stdout",
     "output_type": "stream",
     "text": [
      "              precision    recall  f1-score   support\n",
      "\n",
      "           0       0.51      0.43      0.47       193\n",
      "           1       0.55      0.63      0.59       216\n",
      "\n",
      "    accuracy                           0.54       409\n",
      "   macro avg       0.53      0.53      0.53       409\n",
      "weighted avg       0.53      0.54      0.53       409\n",
      "\n"
     ]
    }
   ],
   "source": [
    "cr_xgb = classification_report(y_test,xgb_pred )\n",
    "print(cr_xgb)"
   ]
  },
  {
   "cell_type": "markdown",
   "id": "cdb453c7",
   "metadata": {},
   "source": [
    "The accuracy of XGB is almost 1 on the training data, which means that the algo has most probably overfit the training data, its accuracy on the test set is much more reasonable. In terms of F1 score, it's average and slightly better for detecting real pictures."
   ]
  },
  {
   "cell_type": "code",
   "execution_count": 80,
   "id": "1411ba52",
   "metadata": {},
   "outputs": [
    {
     "data": {
      "image/png": "[encoded data removed]",
      "text/plain": [
       "<Figure size 576x576 with 1 Axes>"
      ]
     },
     "metadata": {
      "needs_background": "light"
     },
     "output_type": "display_data"
    }
   ],
   "source": [
    "cm_xgb = confusion_matrix(y_test,xgb_pred)\n",
    "fig, ax = plt.subplots(figsize=(8, 8))\n",
    "ax.imshow(cm_xgb)\n",
    "ax.grid(False)\n",
    "ax.xaxis.set(ticks=(0, 1), ticklabels=('Predicted 0s', 'Predicted 1s'))\n",
    "ax.yaxis.set(ticks=(0, 1), ticklabels=('Actual 0s', 'Actual 1s'))\n",
    "ax.set_ylim(1.5, -0.5)\n",
    "for i in range(2):\n",
    "    for j in range(2):\n",
    "        ax.text(j, i, cm_xgb[i, j], ha='center', va='center', color='red')"
   ]
  },
  {
   "cell_type": "markdown",
   "id": "d5b45342",
   "metadata": {},
   "source": [
    "## K Nearest Neighbour"
   ]
  },
  {
   "cell_type": "code",
   "execution_count": 81,
   "id": "23035120",
   "metadata": {},
   "outputs": [],
   "source": [
    "knn = KNeighborsClassifier()"
   ]
  },
  {
   "cell_type": "code",
   "execution_count": 82,
   "id": "183070c1",
   "metadata": {},
   "outputs": [],
   "source": [
    "k_range = list(range(1, 31))\n",
    "param_grid = dict(n_neighbors=k_range)"
   ]
  },
  {
   "cell_type": "code",
   "execution_count": 83,
   "id": "7fe601f0",
   "metadata": {},
   "outputs": [],
   "source": [
    "grid = GridSearchCV(knn, param_grid, cv=10, scoring='accuracy', return_train_score=False,verbose=1)"
   ]
  },
  {
   "cell_type": "code",
   "execution_count": 84,
   "id": "c7bea3c7",
   "metadata": {},
   "outputs": [
    {
     "name": "stdout",
     "output_type": "stream",
     "text": [
      "Fitting 10 folds for each of 30 candidates, totalling 300 fits\n"
     ]
    }
   ],
   "source": [
    "grid_search = grid.fit(X_train, y_train)"
   ]
  },
  {
   "cell_type": "code",
   "execution_count": 85,
   "id": "35833b6c",
   "metadata": {},
   "outputs": [
    {
     "data": {
      "text/plain": [
       "{'n_neighbors': 15}"
      ]
     },
     "execution_count": 85,
     "metadata": {},
     "output_type": "execute_result"
    }
   ],
   "source": [
    "grid_search.best_params_"
   ]
  },
  {
   "cell_type": "markdown",
   "id": "1cfc1159",
   "metadata": {},
   "source": [
    "The grid search has determined 20 neighbours to be the best parameter."
   ]
  },
  {
   "cell_type": "code",
   "execution_count": 91,
   "id": "e80163ae",
   "metadata": {},
   "outputs": [],
   "source": [
    "knn = KNeighborsClassifier(n_neighbors = 15)"
   ]
  },
  {
   "cell_type": "code",
   "execution_count": 92,
   "id": "c8d9a337",
   "metadata": {},
   "outputs": [
    {
     "data": {
      "text/plain": [
       "KNeighborsClassifier(n_neighbors=15)"
      ]
     },
     "execution_count": 92,
     "metadata": {},
     "output_type": "execute_result"
    }
   ],
   "source": [
    "knn.fit(X_train, y_train)"
   ]
  },
  {
   "cell_type": "code",
   "execution_count": 93,
   "id": "06bcb99e",
   "metadata": {},
   "outputs": [
    {
     "data": {
      "text/plain": [
       "0.616421568627451"
      ]
     },
     "execution_count": 93,
     "metadata": {},
     "output_type": "execute_result"
    }
   ],
   "source": [
    "knn.score(X_train, y_train)"
   ]
  },
  {
   "cell_type": "code",
   "execution_count": 94,
   "id": "e66d15f5",
   "metadata": {},
   "outputs": [],
   "source": [
    "knn_pred = knn.predict(X_test)"
   ]
  },
  {
   "cell_type": "code",
   "execution_count": 95,
   "id": "a5cd8b9b",
   "metadata": {},
   "outputs": [],
   "source": [
    "acc_knn = knn.score(X_test, y_test)"
   ]
  },
  {
   "cell_type": "code",
   "execution_count": 96,
   "id": "71fd8d1f",
   "metadata": {},
   "outputs": [
    {
     "data": {
      "text/plain": [
       "0.5899581589958159"
      ]
     },
     "execution_count": 96,
     "metadata": {},
     "output_type": "execute_result"
    }
   ],
   "source": [
    "f1_knn = f1_score(y_test, knn_pred)\n",
    "f1_knn"
   ]
  },
  {
   "cell_type": "code",
   "execution_count": 97,
   "id": "b4f1c5ea",
   "metadata": {},
   "outputs": [
    {
     "name": "stdout",
     "output_type": "stream",
     "text": [
      "              precision    recall  f1-score   support\n",
      "\n",
      "           0       0.49      0.37      0.42       193\n",
      "           1       0.54      0.65      0.59       216\n",
      "\n",
      "    accuracy                           0.52       409\n",
      "   macro avg       0.51      0.51      0.51       409\n",
      "weighted avg       0.52      0.52      0.51       409\n",
      "\n"
     ]
    }
   ],
   "source": [
    "cr_knn = classification_report(y_test,knn_pred )\n",
    "print(cr_knn)"
   ]
  },
  {
   "cell_type": "markdown",
   "id": "b710ac4f",
   "metadata": {},
   "source": [
    "The accuracy of KNN is average as well as its F1 score, although it has done slightly better at detecting real pictures."
   ]
  },
  {
   "cell_type": "code",
   "execution_count": 98,
   "id": "f71afe82",
   "metadata": {},
   "outputs": [
    {
     "data": {
      "image/png": "[encoded data removed]",
      "text/plain": [
       "<Figure size 576x576 with 1 Axes>"
      ]
     },
     "metadata": {
      "needs_background": "light"
     },
     "output_type": "display_data"
    }
   ],
   "source": [
    "cm_knn = confusion_matrix(y_test,knn_pred)\n",
    "fig, ax = plt.subplots(figsize=(8, 8))\n",
    "ax.imshow(cm_knn)\n",
    "ax.grid(False)\n",
    "ax.xaxis.set(ticks=(0, 1), ticklabels=('Predicted 0s', 'Predicted 1s'))\n",
    "ax.yaxis.set(ticks=(0, 1), ticklabels=('Actual 0s', 'Actual 1s'))\n",
    "ax.set_ylim(1.5, -0.5)\n",
    "for i in range(2):\n",
    "    for j in range(2):\n",
    "        ax.text(j, i, cm_knn[i, j], ha='center', va='center', color='red')"
   ]
  },
  {
   "cell_type": "markdown",
   "id": "006f31ae",
   "metadata": {},
   "source": [
    "## Decision Tree Classifier"
   ]
  },
  {
   "cell_type": "code",
   "execution_count": 99,
   "id": "5e4a6d12",
   "metadata": {},
   "outputs": [],
   "source": [
    "dec_tree = DecisionTreeClassifier()"
   ]
  },
  {
   "cell_type": "code",
   "execution_count": 100,
   "id": "88383068",
   "metadata": {},
   "outputs": [],
   "source": [
    "params = {\"criterion\": [\"gini\"],\n",
    "       \"max_depth\": range(4,6),\n",
    "       \"min_samples_split\": range(30, 35),\n",
    "       \"min_samples_leaf\": range(75,80)}"
   ]
  },
  {
   "cell_type": "code",
   "execution_count": 101,
   "id": "840c2507",
   "metadata": {},
   "outputs": [],
   "source": [
    "grid = GridSearchCV(dec_tree, param_grid = params)"
   ]
  },
  {
   "cell_type": "code",
   "execution_count": 102,
   "id": "dd22d2ce",
   "metadata": {},
   "outputs": [
    {
     "data": {
      "text/plain": [
       "GridSearchCV(estimator=DecisionTreeClassifier(),\n",
       "             param_grid={'criterion': ['gini'], 'max_depth': range(4, 6),\n",
       "                         'min_samples_leaf': range(75, 80),\n",
       "                         'min_samples_split': range(30, 35)})"
      ]
     },
     "execution_count": 102,
     "metadata": {},
     "output_type": "execute_result"
    }
   ],
   "source": [
    "grid.fit(X_train, y_train)"
   ]
  },
  {
   "cell_type": "code",
   "execution_count": 103,
   "id": "9f570632",
   "metadata": {},
   "outputs": [
    {
     "data": {
      "text/plain": [
       "{'criterion': 'gini',\n",
       " 'max_depth': 4,\n",
       " 'min_samples_leaf': 76,\n",
       " 'min_samples_split': 31}"
      ]
     },
     "execution_count": 103,
     "metadata": {},
     "output_type": "execute_result"
    }
   ],
   "source": [
    "grid.best_params_"
   ]
  },
  {
   "cell_type": "code",
   "execution_count": 104,
   "id": "aa57e1c5",
   "metadata": {},
   "outputs": [],
   "source": [
    "tree = DecisionTreeClassifier(criterion = \"gini\", max_depth = 4,min_samples_leaf = 76, min_samples_split = 31)"
   ]
  },
  {
   "cell_type": "code",
   "execution_count": 105,
   "id": "0a6cae57",
   "metadata": {},
   "outputs": [
    {
     "data": {
      "text/plain": [
       "DecisionTreeClassifier(max_depth=4, min_samples_leaf=76, min_samples_split=31)"
      ]
     },
     "execution_count": 105,
     "metadata": {},
     "output_type": "execute_result"
    }
   ],
   "source": [
    "tree.fit(X_train, y_train)"
   ]
  },
  {
   "cell_type": "code",
   "execution_count": 106,
   "id": "5ac116a6",
   "metadata": {},
   "outputs": [
    {
     "data": {
      "text/plain": [
       "0.5906862745098039"
      ]
     },
     "execution_count": 106,
     "metadata": {},
     "output_type": "execute_result"
    }
   ],
   "source": [
    "tree.score(X_train, y_train)"
   ]
  },
  {
   "cell_type": "code",
   "execution_count": 107,
   "id": "59958bd3",
   "metadata": {},
   "outputs": [],
   "source": [
    "tree_pred = tree.predict(X_test)"
   ]
  },
  {
   "cell_type": "code",
   "execution_count": 108,
   "id": "508eeaf1",
   "metadata": {},
   "outputs": [
    {
     "data": {
      "text/plain": [
       "0.5427872860635696"
      ]
     },
     "execution_count": 108,
     "metadata": {},
     "output_type": "execute_result"
    }
   ],
   "source": [
    "acc_tree = tree.score(X_test, y_test)\n",
    "acc_tree"
   ]
  },
  {
   "cell_type": "code",
   "execution_count": 109,
   "id": "b3ea38a2",
   "metadata": {},
   "outputs": [
    {
     "data": {
      "text/plain": [
       "0.6504672897196262"
      ]
     },
     "execution_count": 109,
     "metadata": {},
     "output_type": "execute_result"
    }
   ],
   "source": [
    "f1_tree = f1_score(y_test, tree_pred)\n",
    "f1_tree"
   ]
  },
  {
   "cell_type": "code",
   "execution_count": 110,
   "id": "95e57f52",
   "metadata": {},
   "outputs": [
    {
     "name": "stdout",
     "output_type": "stream",
     "text": [
      "              precision    recall  f1-score   support\n",
      "\n",
      "           0       0.53      0.25      0.34       193\n",
      "           1       0.55      0.81      0.65       216\n",
      "\n",
      "    accuracy                           0.54       409\n",
      "   macro avg       0.54      0.53      0.49       409\n",
      "weighted avg       0.54      0.54      0.50       409\n",
      "\n"
     ]
    }
   ],
   "source": [
    "cr_tree = classification_report(y_test,tree_pred )\n",
    "print(cr_tree)"
   ]
  },
  {
   "cell_type": "markdown",
   "id": "5cfaec8a",
   "metadata": {},
   "source": [
    "The combined F1 score for both classes is higher than average although the Decision Tree also did better on real pictures than detecting fake one, the model didn't overfit and its accuracy on the test set is average."
   ]
  },
  {
   "cell_type": "code",
   "execution_count": 111,
   "id": "e4eb747a",
   "metadata": {},
   "outputs": [
    {
     "data": {
      "image/png": "[encoded data removed]",
      "text/plain": [
       "<Figure size 576x576 with 1 Axes>"
      ]
     },
     "metadata": {
      "needs_background": "light"
     },
     "output_type": "display_data"
    }
   ],
   "source": [
    "cm_tree = confusion_matrix(y_test,tree_pred)\n",
    "fig, ax = plt.subplots(figsize=(8, 8))\n",
    "ax.imshow(cm_tree)\n",
    "ax.grid(False)\n",
    "ax.xaxis.set(ticks=(0, 1), ticklabels=('Predicted 0s', 'Predicted 1s'))\n",
    "ax.yaxis.set(ticks=(0, 1), ticklabels=('Actual 0s', 'Actual 1s'))\n",
    "ax.set_ylim(1.5, -0.5)\n",
    "for i in range(2):\n",
    "    for j in range(2):\n",
    "        ax.text(j, i, cm_tree[i, j], ha='center', va='center', color='red')"
   ]
  },
  {
   "cell_type": "markdown",
   "id": "cdae6b7c",
   "metadata": {},
   "source": [
    "The Decision tree did also better at detecting real images"
   ]
  },
  {
   "cell_type": "markdown",
   "id": "eb421d14",
   "metadata": {},
   "source": [
    "## Models comparision"
   ]
  },
  {
   "cell_type": "code",
   "execution_count": 112,
   "id": "3d0f5689",
   "metadata": {},
   "outputs": [],
   "source": [
    "acc = [acc_lr, acc_nb, acc_svc, acc_xgb, acc_knn, acc_tree]\n",
    "f1 = [f1_lr, f1_nb, f1_svc, f1_xgb, f1_knn, f1_tree]\n",
    "models = [\"LR\", \"NB\", \"SVC\", \"XGB\", \"KNN\", \"DT\"]"
   ]
  },
  {
   "cell_type": "code",
   "execution_count": 113,
   "id": "50865274",
   "metadata": {},
   "outputs": [
    {
     "data": {
      "text/plain": [
       "<matplotlib.legend.Legend at 0x25180e7b7f0>"
      ]
     },
     "execution_count": 113,
     "metadata": {},
     "output_type": "execute_result"
    },
    {
     "data": {
      "image/png": "[encoded data removed]",
      "text/plain": [
       "<Figure size 576x576 with 1 Axes>"
      ]
     },
     "metadata": {
      "needs_background": "light"
     },
     "output_type": "display_data"
    }
   ],
   "source": [
    "X_axis = np.arange(len(models))\n",
    "plt.figure(figsize=(8, 8))  \n",
    "plt.bar(X_axis - 0.2, acc , 0.4, label = 'Accuracy')\n",
    "plt.bar(X_axis + 0.2, f1, 0.4, label = 'F1 score')\n",
    "  \n",
    "plt.xticks(X_axis, models)\n",
    "plt.xlabel(\"Models\")\n",
    "plt.title(\"Performance of Models\")\n",
    "plt.legend()"
   ]
  },
  {
   "cell_type": "markdown",
   "id": "c8815851",
   "metadata": {},
   "source": [
    "The above plot shows the performance of the different algorithms used. Now from first glance, it seems that SVC is doing the best job because eventhough its accuracy isn't as high as that of Decision tree, but its F1 score compensates for that. If I'm to choose I would pick SVM."
   ]
  },
  {
   "cell_type": "markdown",
   "id": "331b97c3",
   "metadata": {},
   "source": [
    "## Conclusion\n",
    "\n",
    "In this notebook I tried to build models capable of detecting fake pictures. Firstly, I tried to reduce the dimensionality of the images using PCA, then I attempted with different classification algorithms. The results of my models are average if not too bad (like XGB and SVC), and I can argue its because of :\n",
    "- The method of pre-processing I used: maybe the PCA that kept only half of the information  in the picture has let go of so much information necessary for the models to differentiate between the two classes.\n",
    "- Machine learning algorithms are not able to handle well this particular problem and that neural networks should be given a shot."
   ]
  },
  {
   "cell_type": "code",
   "execution_count": null,
   "id": "a51f904e",
   "metadata": {},
   "outputs": [],
   "source": []
  },
  {
   "cell_type": "code",
   "execution_count": null,
   "id": "e6fb0e5a",
   "metadata": {},
   "outputs": [],
   "source": []
  },
  {
   "cell_type": "code",
   "execution_count": null,
   "id": "4169d2c8",
   "metadata": {},
   "outputs": [],
   "source": []
  },
  {
   "cell_type": "code",
   "execution_count": null,
   "id": "004ce126",
   "metadata": {},
   "outputs": [],
   "source": []
  }
 ],
 "metadata": {
  "kernelspec": {
   "display_name": "Python 3 (ipykernel)",
   "language": "python",
   "name": "python3"
  },
  "language_info": {
   "codemirror_mode": {
    "name": "ipython",
    "version": 3
   },
   "file_extension": ".py",
   "mimetype": "text/x-python",
   "name": "python",
   "nbconvert_exporter": "python",
   "pygments_lexer": "ipython3",
   "version": "3.9.6"
  }
 },
 "nbformat": 4,
 "nbformat_minor": 5
}
